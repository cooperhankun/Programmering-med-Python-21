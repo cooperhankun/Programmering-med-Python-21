{
 "cells": [
  {
   "cell_type": "markdown",
   "source": [
    "\r\n",
    "<a href=\"https://colab.research.google.com/github/kokchun/Programmering-med-Python-21/blob/main/Exercises/06-functions-exericse.ipynb\" target=\"_parent\"><img align=\"left\" src=\"https://colab.research.google.com/assets/colab-badge.svg\" alt=\"Open In Colab\"/></a> &nbsp; to see hints and answers."
   ],
   "metadata": {}
  },
  {
   "cell_type": "markdown",
   "source": [
    "# functions exercises\r\n",
    "\r\n",
    "---\r\n",
    "These are introductory exercises in Python with focus in **functions**.\r\n",
    "\r\n",
    "<p class = \"alert alert-info\" role=\"alert\"><b>Remember</b> to use <b>descriptive variable and function names</b> in order to get readable code </p>\r\n",
    "\r\n",
    "<p class = \"alert alert-info\" role=\"alert\"><b>Remember</b> to format your answers in a neat way using <b>f-strings</b>\r\n",
    "\r\n",
    "<p class = \"alert alert-info\" role=\"alert\"><b>Remember</b> to format your input questions in a pedagogical way to guide the user\r\n",
    "\r\n",
    "The number of stars (\\*), (\\*\\*), (\\*\\*\\*) denotes the difficulty level of the task\r\n",
    "\r\n",
    "---"
   ],
   "metadata": {}
  },
  {
   "cell_type": "markdown",
   "source": [
    "## 1. Euclidean distance (*)\r\n",
    "\r\n",
    "The formula for Euclidean distance in 2D between $P: (p_1, p_2)$ and $Q: (q_1, q_2)$  is: \r\n",
    "\r\n",
    "$d(P,Q) = \\sqrt{(p_1-q_1)^2 + (p_2-q_2)^2}$\r\n",
    "\r\n",
    "&nbsp; a) &nbsp; Create a function that takes two points as input parameters and return the Euclidean between them. (*)\r\n",
    "\r\n",
    "&nbsp; b) &nbsp; Let the user input two points. Call the function using the users input points. (*)\r\n",
    "\r\n",
    "&nbsp; c) &nbsp; Use your function to calculate distances between the origin (0, 0) and each of these points: (10, 3), (-1, -9), (10, -10), (4, -2), (9, -10). (*)\r\n",
    "\r\n",
    "<details>\r\n",
    "\r\n",
    "<summary>Hint</summary>\r\n",
    "\r\n",
    "Use a **for** statement\r\n",
    "\r\n",
    "</details>\r\n",
    "<br>\r\n",
    "<details>\r\n",
    "\r\n",
    "<summary>Answer</summary>\r\n",
    "\r\n",
    "c)\r\n",
    "\r\n",
    "```\r\n",
    "[9.4, 2.0, 5.0, 11.4, 9.4]\r\n",
    "```\r\n",
    "\r\n",
    "</details>\r\n"
   ],
   "metadata": {}
  },
  {
   "cell_type": "markdown",
   "source": [
    "---\r\n",
    "## 2. Mathematical functions (*)\r\n",
    "\r\n",
    "Make the following functions and plot their graphs in the same figure window, with $x\\in [-10,10]$ :\r\n",
    "\r\n",
    "&nbsp; a) &nbsp;  $f(x) = x^2 -3$ (*)\r\n",
    "\r\n",
    "&nbsp; b) &nbsp; $g(x) = 4x-7$ (*)\r\n",
    "\r\n",
    "What could the relation between $f(x)$ and $g(x)$ be?\r\n",
    "\r\n",
    "<details>\r\n",
    "\r\n",
    "<summary>Hint</summary>\r\n",
    "Use numpy's linspace function:\r\n",
    "\r\n",
    "```python\r\n",
    "import numpy as np\r\n",
    "x = np.linspace(-10,10)\r\n",
    "```\r\n",
    "\r\n",
    "[Derivative video][derivative_video] (Swedish)\r\n",
    "\r\n",
    "[Derivative of polynomials][derivative_polynomial] (Swedish)\r\n",
    "\r\n",
    "[derivative_video]: https://www.youtube.com/watch?v=hzXJxOXkU_M\r\n",
    "[derivative_polynomial]: https://www.youtube.com/watch?v=dFnro1sBn1Y\r\n",
    "\r\n",
    "</details>\r\n",
    "<br>\r\n",
    "<details>\r\n",
    "\r\n",
    "<summary>Answer</summary>\r\n",
    "\r\n",
    "<img align=\"left\" src=\"../assets/functions_graph.png\" width=\"200\"/>\r\n",
    "\r\n",
    "</details>\r\n"
   ],
   "metadata": {}
  },
  {
   "cell_type": "markdown",
   "source": [],
   "metadata": {}
  }
 ],
 "metadata": {
  "orig_nbformat": 4,
  "language_info": {
   "name": "python"
  }
 },
 "nbformat": 4,
 "nbformat_minor": 2
}