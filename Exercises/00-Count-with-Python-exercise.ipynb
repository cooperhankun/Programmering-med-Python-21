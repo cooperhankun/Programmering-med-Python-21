{
 "cells": [
  {
   "cell_type": "markdown",
   "metadata": {},
   "source": [
    "\r\n",
    "<a href=\"https://colab.research.google.com/github/kokchun/Programmering-med-Python/blob/main/Exercises/00-Count-with-Python-exercise.ipynb\" target=\"_parent\"><img align=\"left\" src=\"https://colab.research.google.com/assets/colab-badge.svg\" alt=\"Open In Colab\"/></a> &nbsp; to see hints and answers."
   ]
  },
  {
   "cell_type": "markdown",
   "metadata": {},
   "source": [
    "# Count with Python\r\n",
    "\r\n",
    "---\r\n",
    "These are introductory exercises in Python for fundamental mathematics. It is important to both know mathematics as well as Python in order to understand machine learning concepts. Also a focus here is to use Python as a tool for solving mathematical problems.\r\n",
    "\r\n",
    "<p class = \"alert alert-info\" role=\"alert\"><b>Remember</b> to use <b>variables</b> in your computations </p>\r\n",
    "\r\n",
    "<p class = \"alert alert-info\" role=\"alert\"><b>Remember</b> to format your answers in a neat way using <b>f-strings</b>\r\n",
    "\r\n",
    "The number of stars (\\*), (\\*\\*), (\\*\\*\\*) denotes the difficulty level of the task\r\n",
    "\r\n",
    "---"
   ]
  },
  {
   "cell_type": "markdown",
   "metadata": {},
   "source": [
    "## 1. Pythagorean theorem (*)\r\n",
    "\r\n",
    "<ol type=\"a\">\r\n",
    "  <li>A right angled triangle has the catheti: a = 3 and b = 4 length units. Compute the <b>hypothenuse</b> of the triangle.</li><br>\r\n",
    "  \r\n",
    "  <li>A right angled triangle has hypothenuse c = 7.0 and a cathetus a = 5.0 length units. Compute the other cathetus and round to one decimal.</li>\r\n",
    "</ol>\r\n",
    "\r\n",
    "\r\n",
    "\r\n",
    "<img align=\"left\" src=\"../assets/right-angle-triangle.png\" width=\"200\"/>"
   ]
  },
  {
   "cell_type": "markdown",
   "metadata": {},
   "source": [
    "\r\n",
    "<details>\r\n",
    "\r\n",
    "<summary>Open/close hint</summary>\r\n",
    "\r\n",
    "[Video lecture][pythagoras_video] (swedish)\r\n",
    "\r\n",
    "[pythagoras_video]: https://www.youtube.com/watch?v=3iivEnKEJ88\r\n",
    "\r\n",
    "To do square root in Python\r\n",
    "```python \r\n",
    "import math\r\n",
    "math.sqrt()\r\n",
    "```\r\n",
    "\r\n",
    "</details>\r\n",
    "<br>\r\n",
    "<details>\r\n",
    "\r\n",
    "<summary>Open/close answer</summary>\r\n",
    "a) \r\n",
    "\r\n",
    "```\r\n",
    "The hypothenuse is 5 length units\r\n",
    "```\r\n",
    "\r\n",
    "b)\r\n",
    "\r\n",
    "```\r\n",
    "The other cathetus is 4.9 length units\r\n",
    "```\r\n",
    "\r\n",
    "</details>"
   ]
  },
  {
   "cell_type": "markdown",
   "metadata": {},
   "source": [
    "-----\r\n",
    "## 2. Classification accuracy (*)\r\n",
    "\r\n",
    "A machine learning algorithm has been trained to predict whether or not it would rain the next day. Out of 365 predictions, it got 300 correct, compute the accuracy of this model. (*)"
   ]
  },
  {
   "cell_type": "markdown",
   "metadata": {},
   "source": [
    "<details> \r\n",
    "\r\n",
    "<summary>Hint </summary>\r\n",
    "\r\n",
    "The definition for accuracy: \r\n",
    "\r\n",
    "$\\text{accuracy} = \\frac{\\text{number correct predictions}}{\\text{total number of predictions}}$\r\n",
    "\r\n",
    "</details>\r\n",
    "<br>\r\n",
    "<details> \r\n",
    "\r\n",
    "<summary>Answer </summary>\r\n",
    "\r\n",
    "```\r\n",
    "The accuracy of 300 correct predictions of rain out of 365 is 0.82\r\n",
    "```\r\n",
    "\r\n",
    "</details>"
   ]
  },
  {
   "cell_type": "markdown",
   "metadata": {},
   "source": [
    "---\r\n",
    "## 3. Classification accuracy (*)\r\n",
    "A machine learning model has been trained to detect fire. Here is the result of its predictions: \r\n",
    "\r\n",
    "<table align=\"left\">\r\n",
    "<tbody>\r\n",
    "  <tr>\r\n",
    "    <td>True Positive (TP)\r\n",
    "      <ul>\r\n",
    "        <li>Reality: fire</li>\r\n",
    "        <li>Predicted: fire</li>\r\n",
    "        <li>Number of TP: 2</li>\r\n",
    "      </ul>\r\n",
    "    </td>\r\n",
    "    <td>False Positive (FP)\r\n",
    "      <ul>\r\n",
    "        <li>Reality: no fire</li>\r\n",
    "        <li>Predicted: fire</li>\r\n",
    "        <li>Number of FP: 2</li>\r\n",
    "      </ul>\r\n",
    "    </td>\r\n",
    "  </tr>\r\n",
    "\r\n",
    "  <tr>\r\n",
    "    <td>False Negative (FN)\r\n",
    "      <ul>\r\n",
    "        <li>Reality: fire</li>\r\n",
    "        <li>Predicted: no fire</li>\r\n",
    "        <li>Number of FN: 11</li>\r\n",
    "      </ul>\r\n",
    "    </td>\r\n",
    "    <td>True Negative (TN)\r\n",
    "      <ul>\r\n",
    "        <li>Reality: no fire</li>\r\n",
    "        <li>Predicted: no fire</li>\r\n",
    "        <li>Number of TN: 985</li>\r\n",
    "      </ul>\r\n",
    "    </td>\r\n",
    "  </tr>\r\n",
    "</tbody>\r\n",
    "</table>"
   ]
  },
  {
   "cell_type": "markdown",
   "metadata": {},
   "source": [
    "Calculated the accuracy using the following formula:\r\n",
    "\r\n",
    "$\\text{accuracy} = \\frac{TP+TN}{TP+TN+FP+FN}$\r\n",
    "\r\n",
    "Is this a good model?\r\n",
    "\r\n",
    "<details> \r\n",
    "\r\n",
    "<summary>Hint </summary>\r\n",
    "\r\n",
    "Try to understand what it means for the actual user with each category\r\n",
    "\r\n",
    "</details>\r\n",
    "<br>\r\n",
    "<details> \r\n",
    "\r\n",
    "<summary>Answer </summary>\r\n",
    "\r\n",
    "```\r\n",
    "The accuracy of this model is 0.987.\r\n",
    "```\r\n",
    "\r\n",
    "</details>"
   ]
  },
  {
   "cell_type": "markdown",
   "metadata": {},
   "source": [
    "--- \r\n",
    "## 4. Line (*)\r\n",
    "Compute the slope $k$ and the constant term $m$ of this line using the points $A: (4,4)$ and $B: (0,1)$.  \r\n",
    "\r\n",
    "<img align=\"left\" src=\"../assets/line.png\" width=\"200\"/>"
   ]
  },
  {
   "cell_type": "markdown",
   "metadata": {},
   "source": [
    "<details> \r\n",
    "\r\n",
    "<summary>Hint </summary>\r\n",
    "\r\n",
    "$k = \\frac{\\Delta y}{\\Delta x} = \\frac{y_2 - y_1}{x_2 - x_1}$\r\n",
    "\r\n",
    "Either plug in one point into $y = kx + m$ and solve for $m$ or read the intersection with y-axis in the graph.\r\n",
    "\r\n",
    "[Video lecture][video_line] (Swedish)\r\n",
    "\r\n",
    "[video_line]: https://www.youtube.com/watch?v=9Buuq6rkaJ0\r\n",
    "\r\n",
    "</details>\r\n",
    "<br>\r\n",
    "<details> \r\n",
    "\r\n",
    "<summary>Solution </summary>\r\n",
    "\r\n",
    "```\r\n",
    "k = 0.75, m = 1, so the equation for the slope is y = 0.75x + 1\r\n",
    "```\r\n",
    "\r\n",
    "</details>\r\n"
   ]
  },
  {
   "cell_type": "markdown",
   "metadata": {},
   "source": [
    "---\r\n",
    "## 5. Euclidean distance (*)\r\n",
    "\r\n",
    "The Euclideam distance between the points $P_1$ and $P_2$ is the length of a line between them. Let $P_1: (3,5)$ and $P_2: (-2,4)$ and compute the distance between them."
   ]
  },
  {
   "cell_type": "markdown",
   "metadata": {},
   "source": [
    "<details> \r\n",
    "\r\n",
    "<summary>Hint </summary>\r\n",
    "The formula is: \r\n",
    "\r\n",
    "$\\text{distance} = \\sqrt{(x_2-x_1)^2 +(y_2-y_1)^2}$\r\n",
    "\r\n",
    "[Video lecture][video_distance] (Swedish)\r\n",
    "\r\n",
    "[video_distance]: https://www.youtube.com/watch?v=DrTsKgHg7ng\r\n",
    "\r\n",
    "</details>\r\n",
    "<br>\r\n",
    "<details> \r\n",
    "\r\n",
    "<summary>Answer </summary>\r\n",
    "\r\n",
    "```\r\n",
    "The distance is around 5.1 length units.\r\n",
    "```\r\n",
    "\r\n",
    "</details>"
   ]
  },
  {
   "cell_type": "markdown",
   "metadata": {},
   "source": [
    "---\r\n",
    "## 6. Euclidean distance in 3D (**)\r\n",
    "\r\n",
    "Calculate the distance between the points $P_1: (2,1,4)$ and $P_2: (3,1,0)$ \r\n",
    "\r\n",
    "<details> \r\n",
    "\r\n",
    "<summary>Hint </summary>\r\n",
    "\r\n",
    "Let $p =(p_1, p_2, p_3)$ and $q = (q_1, q_2, q_3) \\Rightarrow$   \r\n",
    "\r\n",
    "$d(p,q) = \\sqrt{(p_1-q_1)^2 +(p_2-q_2)^2 +(p_3-q_3)^2 }$, where $d(p,q)$ is the Euclidean distance between $p$ and $q$\r\n",
    "\r\n",
    "</details>\r\n",
    "<br>\r\n",
    "<details> \r\n",
    "\r\n",
    "<summary>Answer </summary>\r\n",
    "\r\n",
    "```\r\n",
    "The distance is around 4.12 l.u.\r\n",
    "```\r\n",
    "\r\n",
    "</details>\r\n",
    "\r\n",
    "---"
   ]
  },
  {
   "cell_type": "markdown",
   "metadata": {},
   "source": []
  }
 ],
 "metadata": {
  "interpreter": {
   "hash": "a6af3a3bb251bcb72cfdd789c0ff929377064d8a2e64281876c18e53714e278c"
  },
  "kernelspec": {
   "display_name": "Python 3.9.5 64-bit",
   "name": "python3"
  },
  "language_info": {
   "codemirror_mode": {
    "name": "ipython",
    "version": 3
   },
   "file_extension": ".py",
   "mimetype": "text/x-python",
   "name": "python",
   "nbconvert_exporter": "python",
   "pygments_lexer": "ipython3",
   "version": "3.9.5"
  },
  "orig_nbformat": 4
 },
 "nbformat": 4,
 "nbformat_minor": 2
}