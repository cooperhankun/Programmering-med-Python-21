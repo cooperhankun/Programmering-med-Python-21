{
 "cells": [
  {
   "cell_type": "markdown",
   "metadata": {},
   "source": [
    "\r\n",
    "<a href=\"https://colab.research.google.com/github/kokchun/Programmering-med-Python/blob/main/Exercises/00-Count-with-Python-exercise.ipynb\" target=\"_parent\"><img align=\"left\" src=\"https://colab.research.google.com/assets/colab-badge.svg\" alt=\"Open In Colab\"/></a> &nbsp; in order to see hints and answers"
   ]
  },
  {
   "cell_type": "markdown",
   "metadata": {},
   "source": [
    "# Count with Python\r\n",
    "\r\n",
    "---\r\n",
    "These are introductory exercises in Python for fundamental mathematics. It is important to both know mathematics as well as Python in order to understand machine learning concepts. Also a focus here is to use Python as a tool for solving mathematical problems\r\n",
    "\r\n",
    "---"
   ]
  },
  {
   "cell_type": "markdown",
   "metadata": {},
   "source": [
    "## 1. Pythagorean theorem\r\n",
    "\r\n",
    "<ol type=\"a\">\r\n",
    "  <li>A right angled triangle has the catheti: a = 3 and b = 4 length units. Compute the <b>hypothenuse</b> of the triangle. </li><br>\r\n",
    "  \r\n",
    "  <li>A right angled triangle has hypothenuse c = 7.0 and a cathetus a = 5.0 length units. Compute the other cathetus and round to one decimal.</li>\r\n",
    "</ol>\r\n",
    "\r\n",
    "**Remember** to format your answers in a neat way using **f-strings**\r\n",
    "\r\n",
    "<img align=\"left\" src=\"../assets/right-angle-triangle.png\" width=\"200\"/>"
   ]
  },
  {
   "cell_type": "markdown",
   "metadata": {},
   "source": [
    "\r\n",
    "<details>\r\n",
    "\r\n",
    "<summary>Open/close hint</summary>\r\n",
    "\r\n",
    "[Video lecture][pythagoras_video] (swedish)\r\n",
    "\r\n",
    "[pythagoras_video]: https://www.youtube.com/watch?v=3iivEnKEJ88\r\n",
    "\r\n",
    "To do square root in Python\r\n",
    "```python \r\n",
    "import math\r\n",
    "math.sqrt()\r\n",
    "```\r\n",
    "\r\n",
    "</details>\r\n",
    "\r\n",
    "<details>\r\n",
    "\r\n",
    "<summary>Open/close answer</summary>\r\n",
    "a) \r\n",
    "\r\n",
    "```\r\n",
    "The hypothenuse is 5 length units\r\n",
    "```\r\n",
    "\r\n",
    "b)\r\n",
    "\r\n",
    "```\r\n",
    "The other cathetus is 4.9 length units\r\n",
    "```\r\n",
    "\r\n",
    "</details>"
   ]
  },
  {
   "cell_type": "markdown",
   "metadata": {},
   "source": [
    "-----\r\n",
    "## 2. "
   ]
  },
  {
   "cell_type": "code",
   "execution_count": 17,
   "metadata": {},
   "outputs": [
    {
     "data": {
      "text/plain": [
       "'The other cathetus is 4.9 length units'"
      ]
     },
     "execution_count": 17,
     "metadata": {},
     "output_type": "execute_result"
    }
   ],
   "source": []
  },
  {
   "cell_type": "code",
   "execution_count": null,
   "metadata": {},
   "outputs": [],
   "source": []
  },
  {
   "cell_type": "code",
   "execution_count": null,
   "metadata": {},
   "outputs": [],
   "source": []
  }
 ],
 "metadata": {
  "interpreter": {
   "hash": "a6af3a3bb251bcb72cfdd789c0ff929377064d8a2e64281876c18e53714e278c"
  },
  "kernelspec": {
   "display_name": "Python 3.9.5 64-bit",
   "name": "python3"
  },
  "language_info": {
   "codemirror_mode": {
    "name": "ipython",
    "version": 3
   },
   "file_extension": ".py",
   "mimetype": "text/x-python",
   "name": "python",
   "nbconvert_exporter": "python",
   "pygments_lexer": "ipython3",
   "version": "3.9.5"
  },
  "orig_nbformat": 4
 },
 "nbformat": 4,
 "nbformat_minor": 2
}