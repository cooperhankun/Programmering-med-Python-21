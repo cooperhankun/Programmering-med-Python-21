{
 "cells": [
  {
   "cell_type": "markdown",
   "metadata": {},
   "source": [
    "# Count with Python\r\n",
    "\r\n",
    "---\r\n",
    "These are introductory exercises in Python for fundamental mathematics. It is important to both know mathematics as well as Python in order to understand machine learning concepts. Also a focus here is to use Python as a tool for solving mathematical problems\r\n",
    "\r\n",
    "---"
   ]
  },
  {
   "cell_type": "markdown",
   "metadata": {},
   "source": [
    "## 1. Pythagorean theorem\r\n",
    "\r\n",
    "A right angled triangle has the catheti: 3 and 4. Calculate the hypothenuse of the triangle?\r\n",
    "\r\n",
    "\r\n",
    "<img src=\"../assets/right-angle-triangle.png\" width=\"200\">\r\n",
    "\r\n",
    "<details>\r\n",
    "\r\n",
    "<summary>Open/close hint</summary>\r\n",
    "\r\n",
    "[Video lecture][pythagoras_video] (swedish)\r\n",
    "[pythagoras_video]: https://www.youtube.com/watch?v=3iivEnKEJ88\r\n",
    "</details>"
   ]
  },
  {
   "cell_type": "code",
   "execution_count": null,
   "metadata": {},
   "outputs": [],
   "source": []
  },
  {
   "cell_type": "markdown",
   "metadata": {},
   "source": []
  }
 ],
 "metadata": {
  "interpreter": {
   "hash": "a6af3a3bb251bcb72cfdd789c0ff929377064d8a2e64281876c18e53714e278c"
  },
  "kernelspec": {
   "display_name": "Python 3.9.5 64-bit",
   "name": "python3"
  },
  "language_info": {
   "name": "python",
   "version": ""
  },
  "orig_nbformat": 4
 },
 "nbformat": 4,
 "nbformat_minor": 2
}