{
 "cells": [
  {
   "cell_type": "markdown",
   "metadata": {},
   "source": [
    "\r\n",
    "<a href=\"https://colab.research.google.com/github/kokchun/Programmering-med-Python/blob/main/Exercises/00-Count-with-Python-exercise.ipynb\" target=\"_parent\"><img align=\"left\" src=\"https://colab.research.google.com/assets/colab-badge.svg\" alt=\"Open In Colab\"/></a>"
   ]
  },
  {
   "cell_type": "markdown",
   "metadata": {},
   "source": [
    "# Count with Python\r\n",
    "\r\n",
    "---\r\n",
    "These are introductory exercises in Python for fundamental mathematics. It is important to both know mathematics as well as Python in order to understand machine learning concepts. Also a focus here is to use Python as a tool for solving mathematical problems\r\n",
    "\r\n",
    "---"
   ]
  },
  {
   "cell_type": "markdown",
   "metadata": {},
   "source": []
  },
  {
   "cell_type": "markdown",
   "metadata": {},
   "source": [
    "## 1. Pythagorean theorem\r\n",
    "\r\n",
    "A right angled triangle has the catheti: 3 and 4. Calculate the hypothenuse of the triangle?\r\n",
    "\r\n",
    "\r\n",
    "<img src=\"../assets/right-angle-triangle.png\" width=\"200\">\r\n",
    "\r\n",
    "\r\n",
    "<details>\r\n",
    "\r\n",
    "<summary>Open/close hint</summary>\r\n",
    "\r\n",
    "[Video lecture][pythagoras_video] (swedish)\r\n",
    "\r\n",
    "[pythagoras_video]: https://www.youtube.com/watch?v=3iivEnKEJ88\r\n",
    "\r\n",
    "To do square root in Python\r\n",
    "```python \r\n",
    "import math\r\n",
    "math.sqrt()\r\n",
    "```\r\n",
    "\r\n",
    "</details>"
   ]
  },
  {
   "cell_type": "markdown",
   "metadata": {},
   "source": []
  }
 ],
 "metadata": {
  "interpreter": {
   "hash": "a6af3a3bb251bcb72cfdd789c0ff929377064d8a2e64281876c18e53714e278c"
  },
  "kernelspec": {
   "display_name": "Python 3.9.5 64-bit",
   "name": "python3"
  },
  "language_info": {
   "name": "python",
   "version": ""
  },
  "orig_nbformat": 4
 },
 "nbformat": 4,
 "nbformat_minor": 2
}