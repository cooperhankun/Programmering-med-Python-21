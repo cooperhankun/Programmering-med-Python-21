{
 "cells": [
  {
   "cell_type": "markdown",
   "metadata": {},
   "source": [
    "<a href=\"https://colab.research.google.com/github/kokchun/Programmering-med-Python-21/blob/main/Exercises/04-list-exercise.ipynb\" target=\"_parent\"><img align=\"left\" src=\"https://colab.research.google.com/assets/colab-badge.svg\" alt=\"Open In Colab\"/></a> &nbsp; to see hints and answers."
   ]
  },
  {
   "cell_type": "markdown",
   "metadata": {},
   "source": [
    "# list exercises\r\n",
    "\r\n",
    "---\r\n",
    "These are introductory exercises in Python with focus in **lists**.\r\n",
    "\r\n",
    "<p class = \"alert alert-info\" role=\"alert\"><b>Remember</b> to use <b>descriptive variable names</b> in order to get readable code </p>\r\n",
    "\r\n",
    "<p class = \"alert alert-info\" role=\"alert\"><b>Remember</b> to format your answers in a neat way using <b>f-strings</b>\r\n",
    "\r\n",
    "<p class = \"alert alert-info\" role=\"alert\"><b>Remember</b> to format your input questions in a pedagogical way to guide the user\r\n",
    "\r\n",
    "The number of stars (\\*), (\\*\\*), (\\*\\*\\*) denotes the difficulty level of the task\r\n",
    "\r\n",
    "---"
   ]
  },
  {
   "cell_type": "markdown",
   "metadata": {},
   "source": [
    "## 1. Dice rolls\r\n",
    "\r\n",
    "Simulate 10 dice rolls and **append** the rolls to a list or use **list comprehension**.\r\n",
    "\r\n",
    "&nbsp; a) &nbsp; sort the list in **ascending** order \r\n",
    "\r\n",
    "&nbsp; b) &nbsp; sort the list in **descending** order\r\n",
    "\r\n",
    "&nbsp; c) &nbsp; find the **maximum** and **minimum** value in the list\r\n",
    "\r\n",
    "\r\n",
    "<details>\r\n",
    "\r\n",
    "<summary>Answer </summary>\r\n",
    "\r\n",
    "a)\r\n",
    "```\r\n",
    "Ascending order: [1, 1, 2, 3, 4, 4, 4, 5, 6, 6]\r\n",
    "```\r\n",
    "\r\n",
    "b) \r\n",
    "```\r\n",
    "Descending order: [6, 6, 5, 4, 4, 4, 3, 2, 1, 1]\r\n",
    "```\r\n",
    "\r\n",
    "c) \r\n",
    "```\r\n",
    "Maximum: 6\r\n",
    "Minimum: 1\r\n",
    "```\r\n",
    "\r\n",
    "</details>\r\n",
    "\r\n",
    "\r\n"
   ]
  },
  {
   "cell_type": "markdown",
   "metadata": {},
   "source": []
  }
 ],
 "metadata": {
  "interpreter": {
   "hash": "a6af3a3bb251bcb72cfdd789c0ff929377064d8a2e64281876c18e53714e278c"
  },
  "kernelspec": {
   "display_name": "Python 3.9.5 64-bit",
   "name": "python3"
  },
  "language_info": {
   "name": "python",
   "version": ""
  },
  "orig_nbformat": 4
 },
 "nbformat": 4,
 "nbformat_minor": 2
}