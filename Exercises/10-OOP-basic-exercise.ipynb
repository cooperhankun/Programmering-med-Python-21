{
 "cells": [
  {
   "cell_type": "markdown",
   "source": [
    "\r\n",
    "<a href=\"https://colab.research.google.com/github/kokchun/Programmering-med-Python-21/blob/main/Exercises/10-OOP-basic-exericse.ipynb\" target=\"_parent\"><img align=\"left\" src=\"https://colab.research.google.com/assets/colab-badge.svg\" alt=\"Open In Colab\"/></a> &nbsp; to see hints and answers."
   ],
   "metadata": {}
  },
  {
   "cell_type": "markdown",
   "source": [
    "# OOP introductory exercises\r\n",
    "\r\n",
    "---\r\n",
    "These are introductory exercises in Python with focus in **OOP**.\r\n",
    "\r\n",
    "<p class = \"alert alert-info\" role=\"alert\"><b>Remember</b> to use <b>descriptive variable, function and class names</b> in order to get readable code </p>\r\n",
    "\r\n",
    "<p class = \"alert alert-info\" role=\"alert\"><b>Remember</b> to format your answers in a neat way using <b>f-strings</b></p>\r\n",
    "\r\n",
    "<p class = \"alert alert-info\" role=\"alert\"><b>Remember</b> to format your input questions in a pedagogical way to guide the user</p>\r\n",
    "\r\n",
    "<p class = \"alert alert-info\" role=\"alert\"><b>Remember</b> to write good docstrings for your methods and classes </p> \r\n",
    "\r\n",
    "The number of stars (\\*), (\\*\\*), (\\*\\*\\*) denotes the difficulty level of the task\r\n",
    "\r\n",
    "---"
   ],
   "metadata": {}
  },
  {
   "cell_type": "markdown",
   "source": [
    "## 1. Unit conversion (*)\r\n",
    "\r\n",
    "Create a class for converting US units to the metric system. It should have the following **bound methods**: (*)\r\n",
    "\r\n",
    "```python\r\n",
    "__init__ (self, value)\r\n",
    "\r\n",
    "inch_to_cm(self)\r\n",
    "\r\n",
    "foot_to_meters(self)\r\n",
    "\r\n",
    "pound_to_kg(self)\r\n",
    "\r\n",
    "__repr__(self)\r\n",
    "\r\n",
    "```\r\n",
    "\r\n",
    "Make sure that value is the correct type and format, raise suitable exceptions in case it isn't.\r\n",
    "\r\n",
    "<details>\r\n",
    "\r\n",
    "<summary>Hint</summary>\r\n",
    "\r\n",
    "You can read about the [units here][units] \r\n",
    "\r\n",
    "[units]: https://en.wikipedia.org/wiki/United_States_customary_units \r\n",
    "\r\n",
    "Check for: \r\n",
    "- negative values \r\n",
    "- types that are not **int** or **float**\r\n",
    "\r\n",
    "</details>\r\n",
    "<br>\r\n",
    "<details>\r\n",
    "\r\n",
    "<summary>Answer</summary>\r\n",
    "For example: \r\n",
    "\r\n",
    "```python\r\n",
    "\r\n",
    "units = UnitUS(5)\r\n",
    "print(f\"5 feet = {units.foot_to_meters()} m\")\r\n",
    "print(f\"5 inch = {units.inch_to_cm()} cm\")\r\n",
    "print(f\"5 pounds = {units.pound_to_kg():.2f} kg\")\r\n",
    "\r\n",
    "``` \r\n",
    "\r\n",
    "```\r\n",
    "5 feet = 1.524 m\r\n",
    "5 inch = 12.7 cm\r\n",
    "5 pounds = 2.27 kg\r\n",
    "```\r\n",
    "</details>\r\n"
   ],
   "metadata": {}
  },
  {
   "cell_type": "markdown",
   "source": [
    "---\r\n",
    "\r\n",
    "Kokchun Giang\r\n",
    "\r\n",
    "[LinkedIn][linkedIn_kokchun]\r\n",
    "\r\n",
    "[GitHub portfolio][github_portfolio]\r\n",
    "\r\n",
    "[linkedIn_kokchun]: https://www.linkedin.com/in/kokchungiang/\r\n",
    "[github_portfolio]: https://github.com/kokchun/Portfolio-Kokchun-Giang\r\n",
    "\r\n",
    "---"
   ],
   "metadata": {}
  }
 ],
 "metadata": {
  "orig_nbformat": 4,
  "language_info": {
   "name": "python"
  }
 },
 "nbformat": 4,
 "nbformat_minor": 2
}