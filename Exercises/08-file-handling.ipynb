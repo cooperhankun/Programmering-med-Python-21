{
 "cells": [
  {
   "cell_type": "markdown",
   "source": [
    "<a href=\"https://colab.research.google.com/github/kokchun/Programmering-med-Python-21/blob/main/Exercises/08-file-handling-exercise.ipynb\" target=\"_parent\"><img align=\"left\" src=\"https://colab.research.google.com/assets/colab-badge.svg\" alt=\"Open In Colab\"/></a> &nbsp; to see hints and answers."
   ],
   "metadata": {}
  },
  {
   "cell_type": "markdown",
   "source": [
    "# file handling exercises\r\n",
    "\r\n",
    "---\r\n",
    "These are introductory exercises in Python with focus in **file handling**.\r\n",
    "\r\n",
    "All files needed for these exercises can be found in the **files** folder in this repo. Clone the repo to access them.\r\n",
    "\r\n",
    "<p class = \"alert alert-info\" role=\"alert\"><b>Remember</b> to use <b>descriptive variable and function names</b> in order to get readable code </p>\r\n",
    "\r\n",
    "<p class = \"alert alert-info\" role=\"alert\"><b>Remember</b> to format your answers in a neat way using <b>f-strings</b>\r\n",
    "\r\n",
    "<p class = \"alert alert-info\" role=\"alert\"><b>Remember</b> to format your input questions in a pedagogical way to guide the user\r\n",
    "\r\n",
    "The number of stars (\\*), (\\*\\*), (\\*\\*\\*) denotes the difficulty level of the task\r\n",
    "\r\n",
    "---"
   ],
   "metadata": {}
  },
  {
   "cell_type": "markdown",
   "source": [
    "## 1. Dice rolls (*)\r\n",
    "Create a textfile called **dice_rolls.txt** using Python. Also for each subtask, write adequate headers. \r\n",
    "\r\n",
    "&nbsp; a) &nbsp; Simulate 20 dice rolls and write them to your textfile. (*)\r\n",
    "\r\n",
    "&nbsp; b) &nbsp; Sort the dice rolls from a) and write them to a separate row in the same textfile. (*)\r\n",
    "\r\n",
    "&nbsp; c) &nbsp; print out a full multiplication table from 0 to 10. (**)\r\n",
    "\r\n",
    "\r\n",
    "<details>\r\n",
    "\r\n",
    "<summary>Hint</summary>\r\n",
    "\r\n",
    "c) Use nested for-loops, which means a for-loop in a for-loop. To format the table nicely, use **f-string**: \r\n",
    "\r\n",
    "```python\r\n",
    "print(f\"{number :4}\", end = \"\")\r\n",
    "```\r\n",
    "\r\n",
    "\r\n",
    "</details>\r\n",
    "\r\n",
    "\r\n",
    "<details>\r\n",
    "\r\n",
    "<summary>Answer </summary>\r\n",
    "\r\n",
    "a)\r\n",
    "```\r\n",
    "0 6 12 18 24 30 36 42 48 54 60\r\n",
    "```\r\n",
    "\r\n",
    "b) e.g. \r\n",
    "\r\n",
    "```\r\n",
    "Which table are you interested in? 5\r\n",
    "Specify start of table: 5\r\n",
    "Specify end of table: 12\r\n",
    "\r\n",
    "Your 5th multiplication table from 5 to 12: 25 30 35 40 45 50 55 60\r\n",
    "```\r\n",
    "\r\n",
    "c)\r\n",
    "\r\n",
    "```\r\n",
    "   0   0   0   0   0   0   0   0   0   0   0\r\n",
    "   0   1   2   3   4   5   6   7   8   9  10\r\n",
    "   0   2   4   6   8  10  12  14  16  18  20\r\n",
    "   0   3   6   9  12  15  18  21  24  27  30\r\n",
    "   0   4   8  12  16  20  24  28  32  36  40\r\n",
    "   0   5  10  15  20  25  30  35  40  45  50\r\n",
    "   0   6  12  18  24  30  36  42  48  54  60\r\n",
    "   0   7  14  21  28  35  42  49  56  63  70\r\n",
    "   0   8  16  24  32  40  48  56  64  72  80\r\n",
    "   0   9  18  27  36  45  54  63  72  81  90\r\n",
    "   0  10  20  30  40  50  60  70  80  90 100\r\n",
    "```\r\n",
    "\r\n",
    "</details>"
   ],
   "metadata": {}
  },
  {
   "cell_type": "markdown",
   "source": [
    "---\r\n",
    "\r\n",
    "Kokchun Giang\r\n",
    "\r\n",
    "[LinkedIn][linkedIn_kokchun]\r\n",
    "\r\n",
    "[GitHub portfolio][github_portfolio]\r\n",
    "\r\n",
    "[linkedIn_kokchun]: https://www.linkedin.com/in/kokchungiang/\r\n",
    "[github_portfolio]: https://github.com/kokchun/Portfolio-Kokchun-Giang\r\n",
    "\r\n",
    "---"
   ],
   "metadata": {}
  }
 ],
 "metadata": {
  "orig_nbformat": 4,
  "language_info": {
   "name": "python"
  }
 },
 "nbformat": 4,
 "nbformat_minor": 2
}