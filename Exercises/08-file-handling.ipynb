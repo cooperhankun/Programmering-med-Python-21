{
 "cells": [
  {
   "cell_type": "markdown",
   "source": [
    "<a href=\"https://colab.research.google.com/github/kokchun/Programmering-med-Python-21/blob/main/Exercises/08-file-handling-exercise.ipynb\" target=\"_parent\"><img align=\"left\" src=\"https://colab.research.google.com/assets/colab-badge.svg\" alt=\"Open In Colab\"/></a> &nbsp; to see hints and answers."
   ],
   "metadata": {}
  },
  {
   "cell_type": "markdown",
   "source": [
    "# file handling exercises\r\n",
    "\r\n",
    "---\r\n",
    "These are introductory exercises in Python with focus in **file handling**.\r\n",
    "\r\n",
    "All files needed for these exercises can be found in the **files** folder in this repo. Clone the repo to access them.\r\n",
    "\r\n",
    "<p class = \"alert alert-info\" role=\"alert\"><b>Remember</b> to use <b>descriptive variable and function names</b> in order to get readable code </p>\r\n",
    "\r\n",
    "<p class = \"alert alert-info\" role=\"alert\"><b>Remember</b> to format your answers in a neat way using <b>f-strings</b>\r\n",
    "\r\n",
    "<p class = \"alert alert-info\" role=\"alert\"><b>Remember</b> to format your input questions in a pedagogical way to guide the user\r\n",
    "\r\n",
    "The number of stars (\\*), (\\*\\*), (\\*\\*\\*) denotes the difficulty level of the task\r\n",
    "\r\n",
    "---"
   ],
   "metadata": {}
  },
  {
   "cell_type": "markdown",
   "source": [
    "## 1. Dice rolls (*)\r\n",
    "Create a textfile called **dice_rolls.txt** using Python. Also for each subtask, write adequate headers. \r\n",
    "\r\n",
    "&nbsp; a) &nbsp; Simulate 20 dice rolls and write them to your textfile. (*)\r\n",
    "\r\n",
    "&nbsp; b) &nbsp; Sort the dice rolls from a) and write them to a separate row in the same textfile. (*)\r\n",
    "\r\n",
    "&nbsp; c) &nbsp; Count the number of fours in the dice rolls and write them to a separate row in the same textfile. (*)\r\n",
    "\r\n",
    "<details>\r\n",
    "\r\n",
    "<summary>Answer </summary>\r\n",
    "\r\n",
    "For example: \r\n",
    "\r\n",
    "```\r\n",
    "\r\n",
    "Simulate 20 dice rolls:\r\n",
    "[3 4 4 3 1 2 6 6 4 6 2 4 5 3 1 2 1 3 3 1]\r\n",
    "\r\n",
    "Sorted dice rolls:\r\n",
    "[1 1 1 1 2 2 2 3 3 3 3 3 4 4 4 4 5 6 6 6]\r\n",
    "\r\n",
    "Number of fours: 4\r\n",
    "\r\n",
    "```\r\n",
    "\r\n",
    "</details>"
   ],
   "metadata": {}
  },
  {
   "cell_type": "markdown",
   "source": [
    "---\r\n",
    "## 2. Test results (*)\r\n",
    "Read in the file [test_result.txt][test_result]. \r\n",
    "\r\n",
    "[test_result]: \r\n",
    "\r\n",
    "&nbsp; a) &nbsp; Simulate 20 dice rolls and write them to your textfile. (*)\r\n",
    "\r\n",
    "&nbsp; b) &nbsp; Sort the dice rolls from a) and write them to a separate row in the same textfile. (*)\r\n",
    "\r\n",
    "&nbsp; c) &nbsp; Count the number of fours in the dice rolls and write them to a separate row in the same textfile. (*)\r\n",
    "\r\n",
    "<details>\r\n",
    "\r\n",
    "<summary>Answer </summary>\r\n",
    "\r\n",
    "For example: \r\n",
    "\r\n",
    "```\r\n",
    "\r\n",
    "Simulate 20 dice rolls:\r\n",
    "[3 4 4 3 1 2 6 6 4 6 2 4 5 3 1 2 1 3 3 1]\r\n",
    "\r\n",
    "Sorted dice rolls:\r\n",
    "[1 1 1 1 2 2 2 3 3 3 3 3 4 4 4 4 5 6 6 6]\r\n",
    "\r\n",
    "Number of fours: 4\r\n",
    "\r\n",
    "```\r\n",
    "\r\n",
    "</details>"
   ],
   "metadata": {}
  },
  {
   "cell_type": "markdown",
   "source": [
    "---\r\n",
    "\r\n",
    "Kokchun Giang\r\n",
    "\r\n",
    "[LinkedIn][linkedIn_kokchun]\r\n",
    "\r\n",
    "[GitHub portfolio][github_portfolio]\r\n",
    "\r\n",
    "[linkedIn_kokchun]: https://www.linkedin.com/in/kokchungiang/\r\n",
    "[github_portfolio]: https://github.com/kokchun/Portfolio-Kokchun-Giang\r\n",
    "\r\n",
    "---"
   ],
   "metadata": {}
  }
 ],
 "metadata": {
  "orig_nbformat": 4,
  "language_info": {
   "name": "python"
  }
 },
 "nbformat": 4,
 "nbformat_minor": 2
}