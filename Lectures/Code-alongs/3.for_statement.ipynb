{
 "cells": [
  {
   "cell_type": "markdown",
   "source": [
    "# for loop\n",
    "\n",
    "- \"foreach\" loop\n",
    "\n",
    "- for i in range(10) # in python\n",
    "- in some other languages: for (int i = 0; i<10; i++) "
   ],
   "metadata": {}
  },
  {
   "cell_type": "code",
   "execution_count": 10,
   "source": [
    "for i in range(10):\n",
    "    print(i, end = \" \")\n",
    "\n",
    "print() # new line\n",
    "# every third number\n",
    "for i in range(1,20,3):\n",
    "    print(i, end=\" \")\n",
    "\n",
    "print(f\"\\n{range(10)}\")\n",
    "print(f\"En lista från range(10): {list(range(10))}\")"
   ],
   "outputs": [
    {
     "output_type": "stream",
     "name": "stdout",
     "text": [
      "0 1 2 3 4 5 6 7 8 9 \n",
      "1 4 7 10 13 16 19 \n",
      "range(0, 10)\n",
      "En lista från range(10): [0, 1, 2, 3, 4, 5, 6, 7, 8, 9]\n"
     ]
    }
   ],
   "metadata": {}
  },
  {
   "cell_type": "code",
   "execution_count": 19,
   "source": [
    "# sum all numbers between 0-5\n",
    "sum_ = 0 # there exists a in built function sum() in python\n",
    "\n",
    "for i in range(6):\n",
    "    sum_ += i\n",
    "    \n",
    "    if i == 5:\n",
    "        continue # skips the current iteration\n",
    "\n",
    "    print(f\"{i}+\", end=\"\")\n",
    "    \n",
    "\n",
    "print(f\"{i}={sum_}\")\n",
    "print(sum(range(6))) # use Pythons sum() function with range()"
   ],
   "outputs": [
    {
     "output_type": "stream",
     "name": "stdout",
     "text": [
      "0+1+2+3+4+5=15\n",
      "15\n"
     ]
    }
   ],
   "metadata": {}
  },
  {
   "cell_type": "markdown",
   "source": [
    "## Dice simulations\n",
    "- calculate probability of dice roll 6\n",
    "\n",
    "$$\n",
    "P(roll 6) = \\frac{\\text{number of sixes}}{\\text{total number of rolls}}\n",
    "$$"
   ],
   "metadata": {}
  },
  {
   "cell_type": "code",
   "execution_count": 63,
   "source": [
    "import random as rnd \n",
    "\n",
    "num_six, dice_rolls = 0, 1000000\n",
    "\n",
    "# count number of six\n",
    "for i in range(dice_rolls):\n",
    "    dice = rnd.randint(1,6)\n",
    "    if dice == 6:\n",
    "        num_six += 1\n",
    "\n",
    "print(f\"Number of six {num_six} in {dice_rolls} dice rolls\")\n",
    "print(f\"Probability of six {num_six/dice_rolls}\")\n",
    "\n",
    "print(f\"Theoretical probability {1/6}\")"
   ],
   "outputs": [
    {
     "output_type": "stream",
     "name": "stdout",
     "text": [
      "Number of six 166913 in 1000000 dice rolls\n",
      "Probability of six 0.166913\n",
      "Theoretical probability 0.16666666666666666\n"
     ]
    }
   ],
   "metadata": {}
  },
  {
   "cell_type": "markdown",
   "source": [
    "## Loop through list"
   ],
   "metadata": {}
  },
  {
   "cell_type": "code",
   "execution_count": 65,
   "source": [
    "fruits = [\"apple\", \"orange\", \"strawberry\", \"grape\"] # created a list of yummy fruits\n",
    "print(\"I love to eat: \")\n",
    "\n",
    "for fruit in fruits:\n",
    "    print(fruit) "
   ],
   "outputs": [
    {
     "output_type": "stream",
     "name": "stdout",
     "text": [
      "I love to eat: \n",
      "apple\n",
      "orange\n",
      "strawberry\n",
      "grape\n"
     ]
    }
   ],
   "metadata": {}
  },
  {
   "cell_type": "code",
   "execution_count": 69,
   "source": [
    "fruits = [\"apple\", \"orange\", \"strawberry\", \"grape\"] # created a list of yummy fruits\n",
    "\n",
    "print(\"Shopping list:\")\n",
    "for i, fruit in enumerate(fruits):\n",
    "    print(f\"{i}. {fruit}\")"
   ],
   "outputs": [
    {
     "output_type": "stream",
     "name": "stdout",
     "text": [
      "Shopping list:\n",
      "0. apple\n",
      "1. orange\n",
      "2. strawberry\n",
      "3. grape\n"
     ]
    }
   ],
   "metadata": {}
  },
  {
   "cell_type": "code",
   "execution_count": null,
   "source": [],
   "outputs": [],
   "metadata": {}
  }
 ],
 "metadata": {
  "orig_nbformat": 4,
  "language_info": {
   "name": "python",
   "version": "3.8.3",
   "mimetype": "text/x-python",
   "codemirror_mode": {
    "name": "ipython",
    "version": 3
   },
   "pygments_lexer": "ipython3",
   "nbconvert_exporter": "python",
   "file_extension": ".py"
  },
  "kernelspec": {
   "name": "python3",
   "display_name": "Python 3.8.3 64-bit ('Python_programming-Y6DWTcE3': pipenv)"
  },
  "interpreter": {
   "hash": "ba172e9133ac13726a3d8ff1460db7a5577e3778ee93c1aadc7eb3f4d8ce4f1c"
  }
 },
 "nbformat": 4,
 "nbformat_minor": 2
}