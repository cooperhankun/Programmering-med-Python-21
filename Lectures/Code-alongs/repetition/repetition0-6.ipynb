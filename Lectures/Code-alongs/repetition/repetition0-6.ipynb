{
 "cells": [
  {
   "cell_type": "markdown",
   "source": [
    "# Repetition"
   ],
   "metadata": {}
  },
  {
   "cell_type": "markdown",
   "source": [
    "## Input/output och variabler"
   ],
   "metadata": {}
  },
  {
   "cell_type": "code",
   "execution_count": 1,
   "source": [
    "namn = input(\"Vad heter du? \") \r\n",
    "print(namn)"
   ],
   "outputs": [
    {
     "output_type": "stream",
     "name": "stdout",
     "text": [
      "Kokchun\n"
     ]
    }
   ],
   "metadata": {}
  },
  {
   "cell_type": "code",
   "execution_count": 4,
   "source": [
    "tal1 = input(\"Ange ett tal \") # \"5\"\r\n",
    "tal2 = input(\"Ange ett annat tal\") # \"5\"\r\n",
    "\r\n",
    "summa = tal1 + tal2\r\n",
    "\r\n",
    "print(summa) # \"5\" + \"5\" = \"55\""
   ],
   "outputs": [
    {
     "output_type": "stream",
     "name": "stdout",
     "text": [
      "55\n"
     ]
    }
   ],
   "metadata": {}
  },
  {
   "cell_type": "code",
   "execution_count": 7,
   "source": [
    "tal1 = int(input(\"Ange ett tal \")) # 5\r\n",
    "tal2 = int(input(\"Ange ett annat tal\")) # 5\r\n",
    "\r\n",
    "summa = tal1 + tal2\r\n",
    "\r\n",
    "print(summa) # 5 + 5 = 10"
   ],
   "outputs": [
    {
     "output_type": "stream",
     "name": "stdout",
     "text": [
      "10\n"
     ]
    }
   ],
   "metadata": {}
  },
  {
   "cell_type": "code",
   "execution_count": 10,
   "source": [
    "längd1 = float(input(\"Ange en längd: \"))\r\n",
    "längd2 = float(input(\"Ange en annan längd: \"))\r\n",
    "\r\n",
    "medellängd = (längd1+längd2)/2\r\n",
    "print(f\"Medellängden av {längd1} och {längd2} är {medellängd}\")"
   ],
   "outputs": [
    {
     "output_type": "stream",
     "name": "stdout",
     "text": [
      "Medellängden av 165.3 och 185.3 är 175.3\n"
     ]
    }
   ],
   "metadata": {}
  },
  {
   "cell_type": "code",
   "execution_count": 13,
   "source": [
    "# variabel\r\n",
    "tal1 = 3\r\n",
    "\r\n",
    "tal1 = 55\r\n",
    "\r\n",
    "tal1 = tal1-5\r\n",
    "print(tal1)\r\n",
    "\r\n",
    "tal1 = 45\r\n",
    "print(tal1)"
   ],
   "outputs": [
    {
     "output_type": "stream",
     "name": "stdout",
     "text": [
      "50\n",
      "45\n"
     ]
    }
   ],
   "metadata": {}
  },
  {
   "cell_type": "code",
   "execution_count": 16,
   "source": [
    "a= \"hej\"\r\n",
    "b=\"då\"\r\n",
    "a*5"
   ],
   "outputs": [
    {
     "output_type": "execute_result",
     "data": {
      "text/plain": [
       "'hejhejhejhejhej'"
      ]
     },
     "metadata": {},
     "execution_count": 16
    }
   ],
   "metadata": {}
  },
  {
   "cell_type": "code",
   "execution_count": 19,
   "source": [
    "b = \"5\"\r\n",
    "b*3"
   ],
   "outputs": [
    {
     "output_type": "execute_result",
     "data": {
      "text/plain": [
       "'555'"
      ]
     },
     "metadata": {},
     "execution_count": 19
    }
   ],
   "metadata": {}
  },
  {
   "cell_type": "markdown",
   "source": [
    "## if-satser"
   ],
   "metadata": {}
  },
  {
   "cell_type": "code",
   "execution_count": null,
   "source": [
    "ålder = 15\r\n",
    "\r\n",
    "if ålder >= 18:\r\n",
    "    print(\"Du är vuxen\")\r\n",
    "else:\r\n",
    "    print(\"DU är barn\")"
   ],
   "outputs": [],
   "metadata": {}
  }
 ],
 "metadata": {
  "orig_nbformat": 4,
  "language_info": {
   "name": "python",
   "version": "3.9.6",
   "mimetype": "text/x-python",
   "codemirror_mode": {
    "name": "ipython",
    "version": 3
   },
   "pygments_lexer": "ipython3",
   "nbconvert_exporter": "python",
   "file_extension": ".py"
  },
  "kernelspec": {
   "name": "python3",
   "display_name": "Python 3.9.6 64-bit ('Programmering-med-Python-OZ4PsT_E': pipenv)"
  },
  "interpreter": {
   "hash": "4d790a4ba7424cef7dc64ec6f6de1f04bad761d237b8926ff99fd2151ec1d86b"
  }
 },
 "nbformat": 4,
 "nbformat_minor": 2
}