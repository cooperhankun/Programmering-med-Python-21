{
 "cells": [
  {
   "cell_type": "markdown",
   "source": [
    "# Functions\n",
    "\n",
    "## Basic functions"
   ],
   "metadata": {}
  },
  {
   "cell_type": "code",
   "execution_count": 6,
   "source": [
    "def cube(number):\n",
    "    return number**3\n",
    "\n",
    "print(f\"cube(3): {cube(3)}\")\n",
    "\n",
    "cube5 = cube(5)\n",
    "print(cube5)\n",
    "\n",
    "cubes = [cube(x) for x in range(10)]\n",
    "print(cubes)"
   ],
   "outputs": [
    {
     "output_type": "stream",
     "name": "stdout",
     "text": [
      "cube(3): 27\n",
      "125\n",
      "[0, 1, 8, 27, 64, 125, 216, 343, 512, 729]\n"
     ]
    }
   ],
   "metadata": {}
  },
  {
   "cell_type": "code",
   "execution_count": 12,
   "source": [
    "def mean1(num1, num2, num3): \n",
    "    mean = (num1 + num2 + num3)/3\n",
    "    return mean\n",
    "\n",
    "print(f\"mean1(1,3,5): {mean1(1,3,5)}\")\n",
    "#print(mean) - mean is not defined outside the scope of the function "
   ],
   "outputs": [
    {
     "output_type": "stream",
     "name": "stdout",
     "text": [
      "mean1(1,3,5): 3.0\n"
     ]
    }
   ],
   "metadata": {}
  },
  {
   "cell_type": "markdown",
   "source": [
    "## Default values"
   ],
   "metadata": {}
  },
  {
   "cell_type": "code",
   "execution_count": 19,
   "source": [
    "# function without a return value\n",
    "def say_hi(name = \"friend\", age=0):\n",
    "    print(f\"hi {name}, you are {age} years old\")\n",
    "\n",
    "say_hi(\"Kokchun\", 30) # default values are overwritten by input arguments\n",
    "say_hi() # default values are used\n",
    "say_hi(age=30) # keyword argument"
   ],
   "outputs": [
    {
     "output_type": "stream",
     "name": "stdout",
     "text": [
      "hi Kokchun, you are 30 years old\n",
      "hi friend, you are 0 years old\n",
      "hi friend, you are 30 years old\n"
     ]
    }
   ],
   "metadata": {}
  },
  {
   "cell_type": "markdown",
   "source": [
    "## Keyword arguments\n",
    "- key = value syntax"
   ],
   "metadata": {}
  },
  {
   "cell_type": "code",
   "execution_count": 25,
   "source": [
    "def count_words(text = \"\"):\n",
    "    words = text.split()\n",
    "    return len(words)\n",
    "\n",
    "print(count_words(\"I stand on the shoulders of giants - Isaac Newton\"))\n",
    "print(count_words())"
   ],
   "outputs": [
    {
     "output_type": "stream",
     "name": "stdout",
     "text": [
      "10\n",
      "0\n"
     ]
    }
   ],
   "metadata": {}
  },
  {
   "cell_type": "markdown",
   "source": [],
   "metadata": {}
  }
 ],
 "metadata": {
  "orig_nbformat": 4,
  "language_info": {
   "name": "python",
   "version": "3.8.3",
   "mimetype": "text/x-python",
   "codemirror_mode": {
    "name": "ipython",
    "version": 3
   },
   "pygments_lexer": "ipython3",
   "nbconvert_exporter": "python",
   "file_extension": ".py"
  },
  "kernelspec": {
   "name": "python3",
   "display_name": "Python 3.8.3 64-bit ('Python_programming-Y6DWTcE3': pipenv)"
  },
  "interpreter": {
   "hash": "ba172e9133ac13726a3d8ff1460db7a5577e3778ee93c1aadc7eb3f4d8ce4f1c"
  }
 },
 "nbformat": 4,
 "nbformat_minor": 2
}