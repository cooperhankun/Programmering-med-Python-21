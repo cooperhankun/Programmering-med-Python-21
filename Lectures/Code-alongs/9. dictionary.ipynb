{
 "cells": [
  {
   "cell_type": "markdown",
   "source": [
    "# Dictionary\n",
    "\n",
    "- key:value pair "
   ],
   "metadata": {}
  },
  {
   "cell_type": "code",
   "execution_count": 4,
   "source": [
    "person = dict(\n",
    "    name = \"Kokchun\",\n",
    "    age = 30.4,\n",
    "    work = \"AI Teacher\",\n",
    "    interests = [\"math\", \"programming\", \"python\", \"yoga\"],\n",
    "    likes_job = True\n",
    ")\n",
    "\n",
    "print(f\"person dictionary {person}\")\n",
    "print(f\"Personens namn är {person['name']}\") # accessed the value of the key name in person\n",
    "print(f\"Personens ålder är {person['age']} år\")\n",
    "\n",
    "for interest in person[\"interests\"]:\n",
    "    print(f\"{person['name']} likes {interest}\")"
   ],
   "outputs": [
    {
     "output_type": "stream",
     "name": "stdout",
     "text": [
      "person dictionary {'name': 'Kokchun', 'age': 30.4, 'work': 'AI Teacher', 'interests': ['math', 'programming', 'python', 'yoga'], 'likes_job': True}\n",
      "Personens namn är Kokchun\n",
      "Personens ålder är 30.4 år\n",
      "Kokchun likes math\n",
      "Kokchun likes programming\n",
      "Kokchun likes python\n",
      "Kokchun likes yoga\n"
     ]
    }
   ],
   "metadata": {}
  },
  {
   "cell_type": "code",
   "execution_count": 17,
   "source": [
    "words = {\n",
    "    \"data structure\": \"means of storing and organizing data\",\n",
    "    \"lambda\": \"anonymous function\",\n",
    "    \"class\": \"blueprint for objects\"\n",
    "}\n",
    "\n",
    "print(\"Vi ska lära oss dessa ord: \")\n",
    "for key in words:\n",
    "    print(key, end=\", \")\n",
    "\n",
    "print(f\"\\n\\nGlosa {'':<15} Betydelse\")\n",
    "for key, value in words.items():\n",
    "    print(f\"{key:<21} {value}\")"
   ],
   "outputs": [
    {
     "output_type": "stream",
     "name": "stdout",
     "text": [
      "Vi ska lära oss dessa ord: \n",
      "data structure, lambda, class, \n",
      "\n",
      "Glosa                 Betydelse\n",
      "data structure        means of storing and organizing data\n",
      "lambda                anonymous function\n",
      "class                 blueprint for objects\n"
     ]
    }
   ],
   "metadata": {}
  },
  {
   "cell_type": "code",
   "execution_count": 19,
   "source": [
    "words[\"lambda\"] = \"an anonymous function\" # overwrites the previous value for the key lambda\n",
    "words[\"regression\"] = \"find a function that best fits observed data\" # adds another key:value pair\n",
    "print(words)"
   ],
   "outputs": [
    {
     "output_type": "stream",
     "name": "stdout",
     "text": [
      "{'data structure': 'means of storing and organizing data', 'lambda': 'an anonymous function', 'class': 'blueprint for objects', 'regression': 'find a function that best fits observed data'}\n"
     ]
    }
   ],
   "metadata": {}
  },
  {
   "cell_type": "code",
   "execution_count": 26,
   "source": [
    "# F<10, E: 10, D:20, C:30, B:40, A:50\n",
    "grade_limits = {}\n",
    "grades = list(\"ABCDEF\")\n",
    "\n",
    "print(grades)\n",
    "\n",
    "for i, grade in enumerate(grades[::-1]):\n",
    "    grade_limits[grade] = i*10\n",
    "\n",
    "grade_limits[\"F\"] = \"<10\"\n",
    "print(grade_limits)"
   ],
   "outputs": [
    {
     "output_type": "stream",
     "name": "stdout",
     "text": [
      "['A', 'B', 'C', 'D', 'E', 'F']\n",
      "{'F': '<10', 'E': 10, 'D': 20, 'C': 30, 'B': 40, 'A': 50}\n"
     ]
    }
   ],
   "metadata": {}
  },
  {
   "cell_type": "markdown",
   "source": [
    "## Dictionary comprehension"
   ],
   "metadata": {}
  },
  {
   "cell_type": "code",
   "execution_count": 47,
   "source": [
    "import random as rnd \n",
    "grade_limits = {grade: i*10 for i, grade in enumerate(\"FEDCBA\")}\n",
    "print(grade_limits)\n",
    "\n",
    "def generate_scores(number_scores):\n",
    "    rnd.seed(42)\n",
    "    scores = [rnd.randint(0,59) for _ in range(number_scores)]\n",
    "    return scores\n",
    "\n",
    "scores = generate_scores(20)\n",
    "print(f\"Student scores: {scores}\")\n",
    "\n",
    "grade_count = {key: 0 for key in grade_limits}\n",
    "\n",
    "print(grade_count)\n",
    "\n",
    "for score in scores: \n",
    "    for grade, limit in grade_limits.items():\n",
    "        if limit <= score < limit + 10: \n",
    "             grade_count[grade] += 1\n",
    "\n",
    "print(f\"Grade count {grade_count}\")"
   ],
   "outputs": [
    {
     "output_type": "stream",
     "name": "stdout",
     "text": [
      "{'F': 0, 'E': 10, 'D': 20, 'C': 30, 'B': 40, 'A': 50}\n",
      "Student scores: [40, 7, 1, 47, 17, 15, 14, 8, 47, 6, 43, 47, 57, 34, 5, 37, 27, 2, 1, 5]\n",
      "{'F': 0, 'E': 0, 'D': 0, 'C': 0, 'B': 0, 'A': 0}\n",
      "Grade count {'F': 8, 'E': 3, 'D': 1, 'C': 2, 'B': 5, 'A': 1}\n"
     ]
    }
   ],
   "metadata": {}
  }
 ],
 "metadata": {
  "orig_nbformat": 4,
  "language_info": {
   "name": "python",
   "version": "3.8.3",
   "mimetype": "text/x-python",
   "codemirror_mode": {
    "name": "ipython",
    "version": 3
   },
   "pygments_lexer": "ipython3",
   "nbconvert_exporter": "python",
   "file_extension": ".py"
  },
  "kernelspec": {
   "name": "python3",
   "display_name": "Python 3.8.3 64-bit ('Python_programming-Y6DWTcE3': pipenv)"
  },
  "interpreter": {
   "hash": "ba172e9133ac13726a3d8ff1460db7a5577e3778ee93c1aadc7eb3f4d8ce4f1c"
  }
 },
 "nbformat": 4,
 "nbformat_minor": 2
}