{
 "cells": [
  {
   "cell_type": "markdown",
   "source": [
    "\r\n",
    "<a href=\"https://colab.research.google.com/github/kokchun/Programmering-med-Python-21/blob/main/Lectures/L4-lists.ipynb\" target=\"_parent\"><img align=\"left\" src=\"https://colab.research.google.com/assets/colab-badge.svg\" alt=\"Open In Colab\"/></a> &nbsp; for interacting with the code"
   ],
   "metadata": {}
  },
  {
   "cell_type": "markdown",
   "source": [
    "---\r\n",
    "# Lecture notes - lists\r\n",
    "\r\n",
    "---\r\n",
    "This is the lecture note for **lists**, but it's built upon contents from previous lectures such as: \r\n",
    "- input-output\r\n",
    "- variables\r\n",
    "- if-statement\r\n",
    "- for loop\r\n",
    "\r\n",
    "lists are used for storing several items in a variable\r\n",
    "\r\n",
    "<p class = \"alert alert-info\" role=\"alert\"><b>Note</b> that this lecture note gives a brief introduction to lists. I encourage you to read further about lists, when there is some functionality that you need.  \r\n",
    "\r\n",
    "Read more [w3schools - lists](https://www.w3schools.com/python/python_lists.asp)\r\n",
    "\r\n",
    "---"
   ],
   "metadata": {}
  },
  {
   "cell_type": "markdown",
   "source": [
    "## Access items\r\n",
    "\r\n",
    "- items have indices from 0 to length-1\r\n",
    "- items can be accessed through the indexing operator [] \r\n",
    "- can also access from right to left with negative indexing\r\n",
    "  - last element is at index -1\r\n",
    "\r\n",
    "Read more [w3schools - access list items](https://www.w3schools.com/python/python_lists_access.asp)"
   ],
   "metadata": {}
  },
  {
   "cell_type": "code",
   "execution_count": 26,
   "source": [
    "tv_shows = [\"Antikrundan\", \"Mästerkockarna\", \"Aktuellt\" , \"Talang\"]\r\n",
    "print(f\"tv_shows[0]: {tv_shows[0]}\")\r\n",
    "print(f\"tv_shows[1]: {tv_shows[1]}\")\r\n",
    "print(f\"tv_shows[2]: {tv_shows[2]}\")\r\n",
    "\r\n",
    "print(f\"tv_shows[-1]: {tv_shows[-1]}\") # access from right"
   ],
   "outputs": [
    {
     "output_type": "stream",
     "name": "stdout",
     "text": [
      "tv_shows[0]: Antikrundan\n",
      "tv_shows[1]: Mästerkockarna\n",
      "tv_shows[2]: Aktuellt\n",
      "tv_shows[-1]: Talang\n"
     ]
    }
   ],
   "metadata": {}
  },
  {
   "cell_type": "markdown",
   "source": [
    "## Change list items\r\n",
    "\r\n",
    "Lists are mutable meaning: \r\n",
    "- can modify elements\r\n",
    "- can replace values\r\n",
    "- can change order of elements\r\n",
    "\r\n",
    "Read more [w3schools - change list items](https://www.w3schools.com/python/python_lists_change.asp)"
   ],
   "metadata": {}
  },
  {
   "cell_type": "code",
   "execution_count": 33,
   "source": [
    "tv_shows = [\"Antikrundan\", \"Mästerkockarna\", \"Aktuellt\" , \"Talang\"]\r\n",
    "tv_shows[0] = \"Vetenskapens värld\"\r\n",
    "print(f\"Replaced first element: {tv_shows}\") \r\n",
    "\r\n",
    "tv_shows.append(\"Pokemon\")\r\n",
    "print(f\"Added an element: {tv_shows}\")"
   ],
   "outputs": [
    {
     "output_type": "stream",
     "name": "stdout",
     "text": [
      "Replaced first element: ['Vetenskapens värld', 'Mästerkockarna', 'Aktuellt', 'Talang']\n",
      "Added an element: ['Vetenskapens värld', 'Mästerkockarna', 'Aktuellt', 'Talang', 'Pokemon']\n"
     ]
    }
   ],
   "metadata": {}
  },
  {
   "cell_type": "markdown",
   "source": [
    "## Slicing operator :\r\n",
    "\r\n",
    "The slicing operator is used for accessing a range of values in the list.\r\n"
   ],
   "metadata": {}
  },
  {
   "cell_type": "code",
   "execution_count": 25,
   "source": [
    "tv_shows[1:3] # returns value at index 1 and index 2"
   ],
   "outputs": [
    {
     "output_type": "execute_result",
     "data": {
      "text/plain": [
       "['Mästerkockarna', 'Aktuellt']"
      ]
     },
     "metadata": {},
     "execution_count": 25
    }
   ],
   "metadata": {}
  },
  {
   "cell_type": "code",
   "execution_count": 6,
   "source": [
    "\r\n",
    "pokemons = [\"13. Weedle\", \"4. Charmander\", \"1. Bulbasaur\", \"6. Charizard\"]"
   ],
   "outputs": [],
   "metadata": {}
  },
  {
   "cell_type": "code",
   "execution_count": null,
   "source": [],
   "outputs": [],
   "metadata": {}
  },
  {
   "cell_type": "code",
   "execution_count": null,
   "source": [],
   "outputs": [],
   "metadata": {}
  },
  {
   "cell_type": "markdown",
   "source": [
    "## List comprehension"
   ],
   "metadata": {}
  },
  {
   "cell_type": "code",
   "execution_count": null,
   "source": [],
   "outputs": [],
   "metadata": {}
  },
  {
   "cell_type": "markdown",
   "source": [
    "---\r\n",
    "\r\n",
    "Kokchun Giang\r\n",
    "\r\n",
    "[LinkedIn][linkedIn_kokchun]\r\n",
    "\r\n",
    "[GitHub portfolio][github_portfolio]\r\n",
    "\r\n",
    "[linkedIn_kokchun]: https://www.linkedin.com/in/kokchungiang/\r\n",
    "[github_portfolio]: https://github.com/kokchun/Portfolio-Kokchun-Giang\r\n",
    "\r\n",
    "---"
   ],
   "metadata": {}
  }
 ],
 "metadata": {
  "orig_nbformat": 4,
  "language_info": {
   "name": "python",
   "version": "3.9.5",
   "mimetype": "text/x-python",
   "codemirror_mode": {
    "name": "ipython",
    "version": 3
   },
   "pygments_lexer": "ipython3",
   "nbconvert_exporter": "python",
   "file_extension": ".py"
  },
  "kernelspec": {
   "name": "python3",
   "display_name": "Python 3.9.5 64-bit"
  },
  "interpreter": {
   "hash": "a6af3a3bb251bcb72cfdd789c0ff929377064d8a2e64281876c18e53714e278c"
  }
 },
 "nbformat": 4,
 "nbformat_minor": 2
}