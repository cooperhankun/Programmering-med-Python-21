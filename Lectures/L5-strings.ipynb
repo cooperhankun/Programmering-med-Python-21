{
 "cells": [
  {
   "cell_type": "markdown",
   "source": [
    "\n",
    "<a href=\"https://colab.research.google.com/github/kokchun/Programmering-med-Python-21/blob/main/Lectures/L5-strings.ipynb\" target=\"_parent\"><img align=\"left\" src=\"https://colab.research.google.com/assets/colab-badge.svg\" alt=\"Open In Colab\"/></a> &nbsp; for interacting with the code"
   ],
   "metadata": {}
  },
  {
   "cell_type": "markdown",
   "source": [
    "---\n",
    "# Lecture notes - strings\n",
    "\n",
    "---\n",
    "This is the lecture note for **strings**, but it's built upon contents from previous lectures such as: \n",
    "- input-output\n",
    "- variables\n",
    "- if-statement\n",
    "- for loop\n",
    "- while \n",
    "- lists\n",
    "- random\n",
    "\n",
    "strings are arrays of bytes that represents unicode characters\n",
    "\n",
    "<p class = \"alert alert-info\" role=\"alert\"><b>Note</b> that this lecture note gives a brief introduction to strings. I encourage you to read further about strings, when there is some functionality that you need.  \n",
    "\n",
    "Read more [w3schools - strings](https://www.w3schools.com/python/python_strings.asp)\n",
    "\n",
    "---"
   ],
   "metadata": {}
  },
  {
   "cell_type": "markdown",
   "source": [
    "## Concatenate strings"
   ],
   "metadata": {}
  },
  {
   "cell_type": "code",
   "execution_count": 10,
   "source": [
    "firstname = \"Kokchun\"\n",
    "lastname = \"Giang\"\n",
    "\n",
    "fullname = firstname + \" \" + lastname # concatenating strings\n",
    "school = \"IT-Högskolan\"\n",
    "address = \"Ebbe Lieberathsgatan 18C, 412 65 Göteborg\"\n",
    "phone = \"112\"\n",
    "\n",
    "# multiline f-string\n",
    "contact_details = f\"\"\"\n",
    "Name: {fullname}\n",
    "School: {school}\n",
    "Adress: {address}\n",
    "Phone: {phone}\n",
    "\"\"\"\n",
    "\n",
    "print(contact_details)"
   ],
   "outputs": [
    {
     "output_type": "stream",
     "name": "stdout",
     "text": [
      "\n",
      "Name: Kokchun Giang\n",
      "School: IT-Högskolan\n",
      "Adress: Ebbe Lieberathsgatan 18C, 412 65 Göteborg\n",
      "Phone: 112\n",
      "\n"
     ]
    }
   ],
   "metadata": {}
  },
  {
   "cell_type": "markdown",
   "source": [
    "### Concatenate with loop"
   ],
   "metadata": {}
  },
  {
   "cell_type": "code",
   "execution_count": 17,
   "source": [
    "bamba = [\"Chili sin carne\", \"Nudlar\", \"Pokebowl\", \"Pannkakor\", \"Tacos\"]\n",
    "days = [\"Må\", \"Ti\", \"On\", \"To\", \"Fr\"]\n",
    "\n",
    "menu = \"Veckomeny\\n\" # \\n gives newline\n",
    "\n",
    "for day, food in zip(days, bamba):\n",
    "    menu += f\"{day}: {food} \\n\"\n",
    "\n",
    "print(menu)\n"
   ],
   "outputs": [
    {
     "output_type": "stream",
     "name": "stdout",
     "text": [
      "Veckomeny\n",
      "Må: Chili sin carne \n",
      "Ti: Nudlar \n",
      "On: Pokebowl \n",
      "To: Pannkakor \n",
      "Fr: Tacos \n",
      "\n"
     ]
    }
   ],
   "metadata": {}
  },
  {
   "cell_type": "markdown",
   "source": [
    "## Indexing\n",
    "\n",
    "- a string is an array of bytes that represents unicode characters\n",
    "- use the indexing operator [] to access elements\n",
    "- combine with slice operator : to get a section in the string"
   ],
   "metadata": {}
  },
  {
   "cell_type": "code",
   "execution_count": 56,
   "source": [
    "# note the different types of quotes, can't use '' for denoting string here, as ' is already used\n",
    "quote = \"!False - it's funny because it's True\" \n",
    "print(f\"quote[0]: {quote[0]}\")\n",
    "print(f\"quote[5]: {quote[5:10]}\") # [start:end-1]\n",
    "print(f\"quote[-4]: {quote[-4]}\") # indexing starting from the end\n",
    "print(f\"quote[-4:]: {quote[-4:]}\") # slice from -4 to the end\n",
    "print(f\"Backwards quote[::-1]: {quote[::-1]}\") # reversing"
   ],
   "outputs": [
    {
     "output_type": "stream",
     "name": "stdout",
     "text": [
      "quote[0]: !\n",
      "quote[5]: e - i\n",
      "quote[-4]: T\n",
      "quote[-4:]: True\n",
      "Backwards quote[::-1]: eurT s'ti esuaceb ynnuf s'ti - eslaF!\n"
     ]
    }
   ],
   "metadata": {}
  },
  {
   "cell_type": "markdown",
   "source": [
    "## Split a string\n",
    "- splitting a string\n"
   ],
   "metadata": {}
  },
  {
   "cell_type": "code",
   "execution_count": 64,
   "source": [
    "subjects = \"Math, biology  ,   cHeMistry  ,  PrOgramming      \"\n",
    "subjects = subjects.split(\",\") # argument defines the pattern which the string should be splitted\n",
    "\n",
    "subjects = [subject.strip().upper() for subject in subjects] # strips and make uppercase\n",
    "\n",
    "for subject in subjects: \n",
    "    print(f\"{subject} has {len(subject)} letters\") \n",
    "    # len() returns the number of items, for a string it returns the number of characters"
   ],
   "outputs": [
    {
     "output_type": "stream",
     "name": "stdout",
     "text": [
      "MATH has 4 letters\n",
      "BIOLOGY has 7 letters\n",
      "CHEMISTRY has 9 letters\n",
      "PROGRAMMING has 11 letters\n"
     ]
    }
   ],
   "metadata": {}
  },
  {
   "cell_type": "code",
   "execution_count": 68,
   "source": [
    "# mean from input\n",
    "numbers = input(\"Ange några tal separerade med mellanslag: \").split()\n",
    "numbers = [float(number) for number in numbers]\n",
    "\n",
    "sum = 0\n",
    "\n",
    "for number in numbers:\n",
    "    sum += number\n",
    "\n",
    "mean = sum/len(numbers)\n",
    "print(f\"Medelvärdet av dina tal är {mean:.1f}\")"
   ],
   "outputs": [
    {
     "output_type": "stream",
     "name": "stdout",
     "text": [
      "Medelvärdet av dina tal är 2.7\n"
     ]
    }
   ],
   "metadata": {}
  },
  {
   "cell_type": "markdown",
   "source": [
    "## Regular expressions\n",
    "\n",
    "Used for finding particular patterns in strings by using descriptors and matching.\n",
    "- findall(regex, string) returns a list of all matches\n",
    "- read more [w3schools - regular expressions](https://www.w3schools.com/python/python_regex.asp)\n",
    "\n",
    "we will cover more regular expressions in future lectures"
   ],
   "metadata": {}
  },
  {
   "cell_type": "code",
   "execution_count": 74,
   "source": [
    "import re \n",
    "\n",
    "# find all words ending with att in this text\n",
    "text = \"Det var en gång en katt som tog på sig en hatt.\"\n",
    "# need to use raw strings for regexp\n",
    "match_list = re.findall(r\".att\", text) # dot . matches all characters\n",
    "print(match_list)"
   ],
   "outputs": [
    {
     "output_type": "stream",
     "name": "stdout",
     "text": [
      "['katt', 'hatt']\n"
     ]
    }
   ],
   "metadata": {}
  },
  {
   "cell_type": "code",
   "execution_count": 90,
   "source": [
    "import re\n",
    "\n",
    "personal_numbers = \"Ida: 19950516-2235, Berit: 19581212-3213, Ada: 050524-1513, FEL: 19932235-3213\"\n",
    "\n",
    "match_long = re.findall(r\"\\d{8}-\\d{4}\", personal_numbers) #\\d - digit, {x} number of times it repeats\n",
    "print(f\"Naive YYYYMMDD-XXXX: {match_long}\")\n",
    "\n",
    "match_short = re.findall(r\"\\d{6}-\\d{4}\", personal_numbers)\n",
    "print(f\"Naive YYMMDD-XXXX: {match_short}\")"
   ],
   "outputs": [
    {
     "output_type": "stream",
     "name": "stdout",
     "text": [
      "Naive YYYYMMDD-XXXX: ['19950516-2235', '19581212-3213', '19932235-3213']\n",
      "Naive YYMMDD-XXXX: ['950516-2235', '581212-3213', '050524-1513', '932235-3213']\n"
     ]
    }
   ],
   "metadata": {}
  },
  {
   "cell_type": "markdown",
   "source": [
    "## String methods \n",
    "\n",
    "There are many string methods available, reference [w3schools - string methods](https://www.w3schools.com/python/python_strings_methods.asp) when you need a specific method"
   ],
   "metadata": {}
  },
  {
   "cell_type": "markdown",
   "source": [
    "---\r\n",
    "\r\n",
    "Kokchun Giang\r\n",
    "\r\n",
    "[LinkedIn][linkedIn_kokchun]\r\n",
    "\r\n",
    "[GitHub portfolio][github_portfolio]\r\n",
    "\r\n",
    "[linkedIn_kokchun]: https://www.linkedin.com/in/kokchungiang/\r\n",
    "[github_portfolio]: https://github.com/kokchun/Portfolio-Kokchun-Giang\r\n",
    "\r\n",
    "---"
   ],
   "metadata": {}
  }
 ],
 "metadata": {
  "orig_nbformat": 4,
  "language_info": {
   "name": "python",
   "version": "3.8.3",
   "mimetype": "text/x-python",
   "codemirror_mode": {
    "name": "ipython",
    "version": 3
   },
   "pygments_lexer": "ipython3",
   "nbconvert_exporter": "python",
   "file_extension": ".py"
  },
  "kernelspec": {
   "name": "python3",
   "display_name": "Python 3.8.3 64-bit"
  },
  "interpreter": {
   "hash": "aee8b7b246df8f9039afb4144a1f6fd8d2ca17a180786b69acc140d282b71a49"
  }
 },
 "nbformat": 4,
 "nbformat_minor": 2
}