{
 "cells": [
  {
   "cell_type": "markdown",
   "source": [
    "\r\n",
    "<a href=\"https://colab.research.google.com/github/kokchun/Programmering-med-Python-21/blob/main/Lectures/L1-statements.ipynb\" target=\"_parent\"><img align=\"left\" src=\"https://colab.research.google.com/assets/colab-badge.svg\" alt=\"Open In Colab\"/></a> &nbsp; for interacting with the code"
   ],
   "metadata": {}
  },
  {
   "cell_type": "markdown",
   "source": [
    "---\r\n",
    "# Lecture notes - input-output\r\n",
    "\r\n",
    "---\r\n",
    "This is the lecture note for **input**, **output** and **variables**. You will learn: \r\n",
    "- comments\r\n",
    "- how to use print\r\n",
    "- how to create variables\r\n",
    "- how to prompt user for input \r\n",
    "- basic f-strings\r\n",
    "\r\n",
    "## Python code\r\n",
    "Since this is the first lecture you should know that Python can be written in: \r\n",
    "- Python interactive shell\r\n",
    "- a Python script file (.py)\r\n",
    "- a Jupyter Notebook file (.ipynb)\r\n",
    "---"
   ],
   "metadata": {}
  },
  {
   "cell_type": "code",
   "execution_count": null,
   "source": [],
   "outputs": [],
   "metadata": {}
  },
  {
   "cell_type": "markdown",
   "source": [],
   "metadata": {}
  }
 ],
 "metadata": {
  "orig_nbformat": 4,
  "language_info": {
   "name": "python"
  }
 },
 "nbformat": 4,
 "nbformat_minor": 2
}