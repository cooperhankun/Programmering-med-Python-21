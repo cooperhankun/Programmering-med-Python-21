{
 "cells": [
  {
   "cell_type": "markdown",
   "source": [
    "\r\n",
    "<a href=\"https://colab.research.google.com/github/kokchun/Programmering-med-Python-21/blob/main/Lectures/L1-statements.ipynb\" target=\"_parent\"><img align=\"left\" src=\"https://colab.research.google.com/assets/colab-badge.svg\" alt=\"Open In Colab\"/></a> &nbsp; for interacting with the code"
   ],
   "metadata": {}
  },
  {
   "cell_type": "markdown",
   "source": [
    "---\r\n",
    "# Lecture notes - if-statement\r\n",
    "\r\n",
    "---\r\n",
    "This is the lecture note for mainly **if-statements**, but it's built upon contents from previous lectures such as: \r\n",
    "- input-output\r\n",
    "- variables\r\n",
    "---"
   ],
   "metadata": {}
  },
  {
   "cell_type": "markdown",
   "source": [
    "## if-else\r\n",
    "\r\n",
    "if-statement is a construct called *conditional statement* which is used for handling decisions. Note the syntax with \"colon\" operator \":\" and the indentation to define a scope in the code (other languages use curly braces {})\r\n",
    "\r\n",
    "```python\r\n",
    "if condition: \r\n",
    "    statements\r\n",
    "    ... \r\n",
    "else: \r\n",
    "    statements\r\n",
    "    ...\r\n",
    "```\r\n",
    "condition is a so called **boolean** which evaluates to either True or False\r\n",
    "\r\n",
    "<img src=\"../assets/if-else-flowchart.png\" width=150/>\r\n",
    "\r\n",
    "Read more\r\n",
    "[w3schools - if..else](https://www.w3schools.com/python/python_conditions.asp)"
   ],
   "metadata": {}
  },
  {
   "cell_type": "code",
   "execution_count": 5,
   "source": [
    "age = int(input(\"Enter your age:\")) # 14\r\n",
    "age_limit = 15\r\n",
    "\r\n",
    "# note the syntax:\r\n",
    "if age < age_limit:\r\n",
    "    print(\"Sorry, you are too young to watch this scary movie\")\r\n",
    "    print(\"Watch this cartoon instead\")\r\n",
    "else:\r\n",
    "    print(\"Enjoy this scary movie\")"
   ],
   "outputs": [
    {
     "output_type": "stream",
     "name": "stdout",
     "text": [
      "Sorry, you are too young to watch this scary movie\n",
      "Watch this cartoon instead\n"
     ]
    }
   ],
   "metadata": {}
  },
  {
   "cell_type": "code",
   "execution_count": 13,
   "source": [
    "age = 15 \r\n",
    "height = 150\r\n",
    "\r\n",
    "if age > 11 and 130 < height < 210:\r\n",
    "    print(\"Du får åka balder\")\r\n",
    "else: \r\n",
    "    print(\"Du får inte åka balder\")"
   ],
   "outputs": [
    {
     "output_type": "stream",
     "name": "stdout",
     "text": [
      "Du får åka balder\n"
     ]
    }
   ],
   "metadata": {}
  },
  {
   "cell_type": "markdown",
   "source": [
    "### Modulo operator\r\n",
    "\r\n",
    "Gives the remainder of a division. Example: \r\n",
    "\r\n",
    "```\r\n",
    "5 % 3 = 2 # read out \"5 mod 3\"\r\n",
    "9 % 3 = 0\r\n",
    "```"
   ],
   "metadata": {}
  },
  {
   "cell_type": "code",
   "execution_count": 14,
   "source": [
    "number = 5\r\n",
    "if number % 2 == 0: \r\n",
    "    print(\"Even number\")\r\n",
    "else:\r\n",
    "    print(\"Odd number\")"
   ],
   "outputs": [
    {
     "output_type": "stream",
     "name": "stdout",
     "text": [
      "Odd number\n"
     ]
    }
   ],
   "metadata": {}
  },
  {
   "cell_type": "markdown",
   "source": [
    "---\r\n",
    "## if - elif - else\r\n",
    "\r\n",
    "```python\r\n",
    "if condition: \r\n",
    "    statements \r\n",
    "    ...\r\n",
    "elif condition: \r\n",
    "    statements\r\n",
    "    ...\r\n",
    "...\r\n",
    "elif condition:\r\n",
    "    statements\r\n",
    "    ...\r\n",
    "else:\r\n",
    "    statements\r\n",
    "    ...\r\n",
    "```\r\n",
    "Example: \r\n",
    "\r\n",
    "<img src=\"../assets/if-elif-else.png\" width=250>"
   ],
   "metadata": {}
  },
  {
   "cell_type": "code",
   "execution_count": 15,
   "source": [
    "weight = float(input(\"What is your weight? (kg) \")) # 40\r\n",
    "if weight < 20:\r\n",
    "    print(\"Give patient 500mg\")\r\n",
    "elif weight < 40:\r\n",
    "    print(\"Give patient 750mg\")\r\n",
    "else:\r\n",
    "    print(\"Give patient 1000mg\")"
   ],
   "outputs": [
    {
     "output_type": "stream",
     "name": "stdout",
     "text": [
      "Give patient 1000mg\n"
     ]
    }
   ],
   "metadata": {}
  },
  {
   "cell_type": "markdown",
   "source": [
    "---\r\n",
    "## Logical conditions\r\n",
    "\r\n",
    "| Name                    | Symbol |   Example    | Result |\r\n",
    "| ----------------------- | :----: | :----------: | ------ |\r\n",
    "| Less than               |   <    |     3<2      | False  |\r\n",
    "| Less than or equal to   |   <=   |     3<=3     | True   |\r\n",
    "| Larger than             |   >    |     3>2      | True   |\r\n",
    "| Larger than or equal to |   >=   |    -3>=4     | False  |\r\n",
    "| Equal to                |   ==   |     3==3     | True   |\r\n",
    "| Not equal               |   !=   |     3!=2     | True   |\r\n",
    "| And operator            |  and   | 3==2 and 3>2 | False  |\r\n",
    "| Or operator             |   or   | 3==2 or 3>2  | True   |"
   ],
   "metadata": {}
  }
 ],
 "metadata": {
  "orig_nbformat": 4,
  "language_info": {
   "name": "python",
   "version": "3.9.5",
   "mimetype": "text/x-python",
   "codemirror_mode": {
    "name": "ipython",
    "version": 3
   },
   "pygments_lexer": "ipython3",
   "nbconvert_exporter": "python",
   "file_extension": ".py"
  },
  "kernelspec": {
   "name": "python3",
   "display_name": "Python 3.9.5 64-bit ('Python_programming-3UERyBdl': pipenv)"
  },
  "interpreter": {
   "hash": "2a33c6d17465acfe650d20c767bffb64298a8177aa455ecd8ead58d9893c7435"
  }
 },
 "nbformat": 4,
 "nbformat_minor": 2
}