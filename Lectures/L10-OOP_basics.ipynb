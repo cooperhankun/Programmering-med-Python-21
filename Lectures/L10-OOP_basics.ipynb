{
 "cells": [
  {
   "cell_type": "markdown",
   "source": [
    "\r\n",
    "<a href=\"https://colab.research.google.com/github/kokchun/Programmering-med-Python-21/blob/main/Lectures/L10-OOP_basics.ipynb\" target=\"_parent\"><img align=\"left\" src=\"https://colab.research.google.com/assets/colab-badge.svg\" alt=\"Open In Colab\"/></a> &nbsp; for interacting with the code"
   ],
   "metadata": {}
  },
  {
   "cell_type": "markdown",
   "source": [
    "---\r\n",
    "# Lecture notes - OOP basics\r\n",
    "\r\n",
    "---\r\n",
    "This is the lecture note for basic **OOP** - Object Oriented Programming, but it's built upon contents from previous lectures such as: \r\n",
    "- input-output\r\n",
    "- variables\r\n",
    "- if-statement\r\n",
    "- for loop\r\n",
    "- while \r\n",
    "- lists\r\n",
    "- random\r\n",
    "- strings\r\n",
    "- functions\r\n",
    "- error handling\r\n",
    "- file handling\r\n",
    "- dictionary\r\n",
    "\r\n",
    "<p class = \"alert alert-info\" role=\"alert\"><b>Note</b> that this lecture note gives a brief introduction to OOP. I encourage you to read further about OOP.\r\n",
    "\r\n",
    "Read more [w3schools - OOP](https://www.w3schools.com/python/python_classes.asp). \r\n",
    "\r\n",
    "---"
   ],
   "metadata": {}
  },
  {
   "cell_type": "markdown",
   "source": [
    "## class()\n",
    "\n",
    "- create a class using the ```class``` keyword \n",
    "- an object is instantiated from the class using the **constructor**\n",
    "- ```__init__()``` - \"dunder init\" is an **initializer** method which is called when the object is created \n",
    "- - used for setting initial values of **attributes**, which are variables associated with an object\n",
    "- - if not specified, Python will call a default ```__init__()```\n",
    "- **methods** - functions bound to the class\n",
    "- **self** - when a method of an object is called, the object itself is passed into the self parameter\n",
    "- all methods have a **self** parameter"
   ],
   "metadata": {}
  },
  {
   "cell_type": "code",
   "execution_count": 20,
   "source": [
    "class Antagning: # creates the class\n",
    "    # initializer - runs when instance of the class is created\n",
    "    def __init__(self, school, program, name, accept):\n",
    "        # assign the arguments to object attributes\n",
    "        self.school = school \n",
    "        self.program = program\n",
    "        self.name = name\n",
    "        self.accept = accept \n",
    "\n",
    "# note that the object is sent to the self parameter, so you only pass in 4 arguments and not 5\n",
    "person1 = Antagning(\"Cool school\", \"AI\", accept=True, name=\"Kokchun\") # constructor\n",
    "person2 = Antagning(\"Cooler school\", \"Data science\", accept=False, name = \"Gore Bord\") \n",
    "\n",
    "print(f\"person1: {person1}\") # an object of class Antagning() at a certain memory position\n",
    "print(f\"person2.program: {person2.program}\") # accesses an attribute of the object\n",
    "person2.program = \"UX\" # change an attribute\n",
    "print(f\"person2.program: {person2.program}\")\n",
    "\n",
    "# note that these are different as name are attributes of each object\n",
    "print(f\"person1.name: {person1.name}\")\n",
    "print(f\"person2.name: {person2.name}\")"
   ],
   "outputs": [
    {
     "output_type": "stream",
     "name": "stdout",
     "text": [
      "person1: <__main__.Antagning object at 0x7fa1c97d2790>\n",
      "person2.program: Data science\n",
      "person2.program: UX\n",
      "person1.name: Kokchun\n",
      "person2.name: Gore Bord\n"
     ]
    }
   ],
   "metadata": {}
  },
  {
   "cell_type": "markdown",
   "source": [
    "## \"Private attributes\"\n",
    "- all attributes in Python are public\n",
    "- by convention you can make an attribute private by using _ in front of it\n",
    "- people knowledgeable in Python knows not to change it outside of the class, however technically you can change a private attribute outside the class"
   ],
   "metadata": {}
  },
  {
   "cell_type": "code",
   "execution_count": 41,
   "source": [
    "class OldCoinsStash:\n",
    "    def __init__(self, owner):\n",
    "        self.owner = owner\n",
    "\n",
    "        # these attributes are \"private\" - only allow to access them in the class\n",
    "        self._riksdaler = 0\n",
    "        self._skilling = 0\n",
    "\n",
    "    def deposit(self, riksdaler, skilling):\n",
    "        if riksdaler <= 0 or skilling <= 0:\n",
    "            raise ValueError(\n",
    "                f\"You try to deposit {riksdaler} riksdaler and {skilling} skilling. They have to be positive\")\n",
    "\n",
    "        self._riksdaler += riksdaler\n",
    "        self._skilling += skilling\n",
    "\n",
    "    def withdraw(self, riksdaler, skilling):\n",
    "        if riksdaler > self._riksdaler or skilling > self._skilling:\n",
    "            raise ValueError(\n",
    "                f\"You can't withdraw more than you have in your stash\")\n",
    "\n",
    "        self._riksdaler -= riksdaler\n",
    "        self._skilling -= skilling\n",
    "\n",
    "    def check_balance(self):\n",
    "        return f\"Coins in stash: {self._riksdaler} riksdaler, {self._skilling} skilling\"\n",
    "\n",
    "\n",
    "stash1 = OldCoinsStash(\"Gore Bord\")\n",
    "print(stash1.check_balance())\n",
    "\n",
    "try:\n",
    "    stash1.deposit(-5, 31)  # check if I can rob the stash\n",
    "except ValueError as err:\n",
    "    print(err)\n",
    "\n",
    "print(stash1.check_balance())\n",
    "stash1.deposit(50, 42)\n",
    "print(stash1.check_balance())\n",
    "\n",
    "try:\n",
    "    stash1.withdraw(500, 31)  # check if I can rob the stash again\n",
    "except ValueError as err:\n",
    "    print(err)\n",
    "\n",
    "print(stash1.check_balance())\n",
    "stash1.withdraw(25, 20)\n",
    "print(stash1.check_balance())\n",
    "\n",
    "# there are ways to rob the stash -> try and see if you can find them :)\n",
    "# then try to fix this bug (or feature ;) ?)\n"
   ],
   "outputs": [
    {
     "output_type": "stream",
     "name": "stdout",
     "text": [
      "Coins in stash: 0 riksdaler, 0 skilling\n",
      "You try to deposit -5 riksdaler and 31 skilling. They have to be positive\n",
      "Coins in stash: 0 riksdaler, 0 skilling\n",
      "Coins in stash: 50 riksdaler, 42 skilling\n",
      "You can't withdraw more than you have in your stash\n",
      "Coins in stash: 50 riksdaler, 42 skilling\n",
      "Coins in stash: 25 riksdaler, 22 skilling\n"
     ]
    }
   ],
   "metadata": {}
  },
  {
   "cell_type": "markdown",
   "source": [
    "## Property and documentation\n",
    "\n",
    "- getter and setter\n",
    "\n",
    "### Docstring\n",
    "- docstring for documenting your class, use three quotes \"\"\" \"\"\" after class name\n"
   ],
   "metadata": {}
  },
  {
   "cell_type": "code",
   "execution_count": 53,
   "source": [
    "class Student:\n",
    "    \"\"\"Student class for representing students with name, age and active \"\"\"\n",
    "    def __init__(self, name: \"str\", age: int, active: bool) -> None:\n",
    "        self._name = name\n",
    "        self.age = age\n",
    "        self.active = active\n",
    "\n",
    "    # read only property - only has a getter, no setter as we don't want to change the name\n",
    "    @property\n",
    "    def name(self):\n",
    "        return self._name\n",
    "\n",
    "s1 = Student(\"Gore Bord\", 55, True)\n",
    "try: \n",
    "    s1.name = \"Gure Burd\" # can't set read-only properties\n",
    "except AttributeError as err:\n",
    "    print(err)\n",
    "\n",
    "\n",
    "print(s1.name)"
   ],
   "outputs": [
    {
     "output_type": "stream",
     "name": "stdout",
     "text": [
      "can't set attribute\n",
      "Gore Bord\n"
     ]
    }
   ],
   "metadata": {}
  },
  {
   "cell_type": "code",
   "execution_count": 43,
   "source": [
    "help(Student)"
   ],
   "outputs": [
    {
     "output_type": "stream",
     "name": "stdout",
     "text": [
      "Help on class Student in module __main__:\n",
      "\n",
      "class Student(builtins.object)\n",
      " |  Student(name: 'str', age: 'str', active: bool)\n",
      " |  \n",
      " |  Methods defined here:\n",
      " |  \n",
      " |  __init__(self, name: 'str', age: 'str', active: bool)\n",
      " |      Initialize self.  See help(type(self)) for accurate signature.\n",
      " |  \n",
      " |  ----------------------------------------------------------------------\n",
      " |  Data descriptors defined here:\n",
      " |  \n",
      " |  __dict__\n",
      " |      dictionary for instance variables (if defined)\n",
      " |  \n",
      " |  __weakref__\n",
      " |      list of weak references to the object (if defined)\n",
      "\n"
     ]
    }
   ],
   "metadata": {}
  },
  {
   "cell_type": "markdown",
   "source": [
    "---\r\n",
    "\r\n",
    "Kokchun Giang\r\n",
    "\r\n",
    "[LinkedIn][linkedIn_kokchun]\r\n",
    "\r\n",
    "[GitHub portfolio][github_portfolio]\r\n",
    "\r\n",
    "[linkedIn_kokchun]: https://www.linkedin.com/in/kokchungiang/\r\n",
    "[github_portfolio]: https://github.com/kokchun/Portfolio-Kokchun-Giang\r\n",
    "\r\n",
    "---"
   ],
   "metadata": {}
  }
 ],
 "metadata": {
  "orig_nbformat": 4,
  "language_info": {
   "name": "python",
   "version": "3.8.3",
   "mimetype": "text/x-python",
   "codemirror_mode": {
    "name": "ipython",
    "version": 3
   },
   "pygments_lexer": "ipython3",
   "nbconvert_exporter": "python",
   "file_extension": ".py"
  },
  "kernelspec": {
   "name": "python3",
   "display_name": "Python 3.8.3 64-bit ('Python_programming-Y6DWTcE3': pipenv)"
  },
  "interpreter": {
   "hash": "ba172e9133ac13726a3d8ff1460db7a5577e3778ee93c1aadc7eb3f4d8ce4f1c"
  }
 },
 "nbformat": 4,
 "nbformat_minor": 2
}