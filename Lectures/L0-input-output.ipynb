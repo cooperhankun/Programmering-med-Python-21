{
 "cells": [
  {
   "cell_type": "markdown",
   "source": [
    "\n",
    "<a href=\"https://colab.research.google.com/github/kokchun/Programmering-med-Python-21/blob/main/Lectures/L0-input-output.ipynb\" target=\"_parent\"><img align=\"left\" src=\"https://colab.research.google.com/assets/colab-badge.svg\" alt=\"Open In Colab\"/></a> &nbsp; for interacting with the code"
   ],
   "metadata": {}
  },
  {
   "cell_type": "markdown",
   "source": [
    "---\n",
    "# Lecture 0 - input-output\n",
    "\n",
    "---\n",
    "This is the lecture note for **input**, **output** and **variables**. You will learn: \n",
    "- comments\n",
    "- how to use print\n",
    "- how to create variables\n",
    "- how to prompt user for input \n",
    "- basic f-strings\n",
    "\n",
    "## Python code\n",
    "Since this is the first lecture you should know that Python can be written in: \n",
    "- Python interactive shell\n",
    "- a Python script file (.py)\n",
    "- a Jupyter Notebook file (.ipynb)\n",
    "---"
   ],
   "metadata": {}
  },
  {
   "cell_type": "markdown",
   "source": [
    "## Print statement\n",
    "\n",
    "- Read more here: [w3schools - print()](https://www.w3schools.com/python/ref_func_print.asp)"
   ],
   "metadata": {}
  },
  {
   "cell_type": "code",
   "execution_count": 4,
   "source": [
    "# this is a comment starting with hashtag. Comments are ignored by Python interpretor\n",
    "print(\"Hello world!\") # prints Hello world!\n",
    "print('My name is Kokchun') # notice that you can write strings with '' as well as with \"\""
   ],
   "outputs": [
    {
     "output_type": "stream",
     "name": "stdout",
     "text": [
      "Hello world!\n",
      "My name is Kokchun\n"
     ]
    }
   ],
   "metadata": {}
  },
  {
   "cell_type": "markdown",
   "source": [
    "## Variables \n",
    "With variables you store data in a container. You create variable and assigns a value to it. The data type is inferred by the interpretor.\n",
    "\n",
    "<img src=\"../assets/variables.png\" width=600>\n",
    "\n",
    "Read more here: \n",
    "- [w3schools - variables](https://www.w3schools.com/python/python_variables.asp)\n",
    "- [w3schools - data type](https://www.w3schools.com/python/python_datatypes.asp)\n",
    "- [real python - f-strings](https://realpython.com/python-f-strings/)"
   ],
   "metadata": {}
  },
  {
   "cell_type": "code",
   "execution_count": 9,
   "source": [
    "firstname = \"Kokchun\" # firstname is assigned with the value \"Kokchun\"\n",
    "lastname = \"Giang\" \n",
    "age = 30 \n",
    "\n",
    "# this is an f-string, which allows you to incorporate variable into the strings\n",
    "print(f\"My name is {firstname} {lastname}\")\n",
    "print(f\"My age is {age}\")\n",
    "\n",
    "# assign another value to existing variable\n",
    "age = 30.4\n",
    "print(f\"More specifically, I am {age} years old\")"
   ],
   "outputs": [
    {
     "output_type": "stream",
     "name": "stdout",
     "text": [
      "My name is Kokchun Giang\n",
      "My age is 30\n",
      "More specifically, I am 30.4 years old\n"
     ]
    }
   ],
   "metadata": {}
  },
  {
   "cell_type": "markdown",
   "source": [
    "## Input from user\n",
    "\n",
    "Read more here: \n",
    "- [w3schools - input](https://www.w3schools.com/python/ref_func_input.asp)"
   ],
   "metadata": {}
  },
  {
   "cell_type": "code",
   "execution_count": 12,
   "source": [
    "name = input(\"What is your name? \") # Hanna\n",
    "age = input(\"How old are you {name}? \") # 22\n",
    "print(f\"{name} is {age} years old\")"
   ],
   "outputs": [
    {
     "output_type": "stream",
     "name": "stdout",
     "text": [
      "Hanna is 22 years old\n"
     ]
    }
   ],
   "metadata": {}
  },
  {
   "cell_type": "code",
   "execution_count": null,
   "source": [],
   "outputs": [],
   "metadata": {}
  }
 ],
 "metadata": {
  "orig_nbformat": 4,
  "language_info": {
   "name": "python",
   "version": "3.8.3",
   "mimetype": "text/x-python",
   "codemirror_mode": {
    "name": "ipython",
    "version": 3
   },
   "pygments_lexer": "ipython3",
   "nbconvert_exporter": "python",
   "file_extension": ".py"
  },
  "kernelspec": {
   "name": "python3",
   "display_name": "Python 3.8.3 64-bit ('Python_programming-Y6DWTcE3': pipenv)"
  },
  "interpreter": {
   "hash": "ba172e9133ac13726a3d8ff1460db7a5577e3778ee93c1aadc7eb3f4d8ce4f1c"
  }
 },
 "nbformat": 4,
 "nbformat_minor": 2
}