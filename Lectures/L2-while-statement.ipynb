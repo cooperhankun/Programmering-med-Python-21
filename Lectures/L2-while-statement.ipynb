{
 "cells": [
  {
   "cell_type": "markdown",
   "source": [
    "\n",
    "<a href=\"https://colab.research.google.com/github/kokchun/Programmering-med-Python-21/blob/main/Lectures/L2-while-statements.ipynb\" target=\"_parent\"><img align=\"left\" src=\"https://colab.research.google.com/assets/colab-badge.svg\" alt=\"Open In Colab\"/></a> &nbsp; for interacting with the code"
   ],
   "metadata": {}
  },
  {
   "cell_type": "markdown",
   "source": [
    "---\n",
    "# Lecture notes - while-statement\n",
    "\n",
    "---\n",
    "This is the lecture note for **while-statement**, but it's built upon contents from previous lectures such as: \n",
    "- input-output\n",
    "- variables\n",
    "- if-statement\n",
    "---"
   ],
   "metadata": {}
  },
  {
   "cell_type": "markdown",
   "source": [
    "## while \n",
    "\n",
    "Informally you can view a while statement as an \"if-loop\" where code is repeated as long as the condition evaluates to True. Note that the code that is repeated is under the code scope, that is indented. \n",
    "\n",
    "```python\n",
    "while condition:\n",
    "    statements\n",
    "    ...\n",
    "```\n",
    "\n",
    "While loop is preferred when not knowing in beforehand the number of iterations\n",
    "\n",
    "Read more [w3schools while](https://www.w3schools.com/python/python_while_loops.asp)"
   ],
   "metadata": {}
  },
  {
   "cell_type": "code",
   "execution_count": 6,
   "source": [
    "n = 0\n",
    "while n < 5: \n",
    "    print(f\"Hello {n}\")\n",
    "    n += 1 # adds one to n"
   ],
   "outputs": [
    {
     "output_type": "stream",
     "name": "stdout",
     "text": [
      "Hello 0\n",
      "Hello 1\n",
      "Hello 2\n",
      "Hello 3\n",
      "Hello 4\n"
     ]
    }
   ],
   "metadata": {}
  },
  {
   "cell_type": "markdown",
   "source": [
    "### Example - oil leakage\n",
    "There is an oil leakage causing the bird population in an island to 1/2 in each year. From start there were 80000 birds, how many years does it take for it to have 1/10 remaining?"
   ],
   "metadata": {}
  },
  {
   "cell_type": "code",
   "execution_count": 10,
   "source": [
    "birds = 80000\n",
    "year = 0\n",
    "\n",
    "while birds > 8000:\n",
    "    print(f\"Year {year} there were {birds:.0f} birds\") \n",
    "    birds /= 2 # divide by half \n",
    "    year += 1\n",
    "\n",
    "print(f\"It takes {year} years for the birds to have 1/10 remaining\")"
   ],
   "outputs": [
    {
     "output_type": "stream",
     "name": "stdout",
     "text": [
      "Year 0 there were 80000 birds\n",
      "Year 1 there were 40000 birds\n",
      "Year 2 there were 20000 birds\n",
      "Year 3 there were 10000 birds\n",
      "It takes 4 years for the birds to have 1/10 remaining\n"
     ]
    }
   ],
   "metadata": {}
  },
  {
   "cell_type": "markdown",
   "source": [
    "---\r\n",
    "\r\n",
    "Kokchun Giang\r\n",
    "\r\n",
    "[LinkedIn][linkedIn_kokchun]\r\n",
    "\r\n",
    "[GitHub portfolio][github_portfolio]\r\n",
    "\r\n",
    "[linkedIn_kokchun]: https://www.linkedin.com/in/kokchungiang/\r\n",
    "[github_portfolio]: https://github.com/kokchun/Portfolio-Kokchun-Giang\r\n",
    "\r\n",
    "---"
   ],
   "metadata": {}
  }
 ],
 "metadata": {
  "orig_nbformat": 4,
  "language_info": {
   "name": "python",
   "version": "3.8.3",
   "mimetype": "text/x-python",
   "codemirror_mode": {
    "name": "ipython",
    "version": 3
   },
   "pygments_lexer": "ipython3",
   "nbconvert_exporter": "python",
   "file_extension": ".py"
  },
  "kernelspec": {
   "name": "python3",
   "display_name": "Python 3.8.3 64-bit"
  },
  "interpreter": {
   "hash": "aee8b7b246df8f9039afb4144a1f6fd8d2ca17a180786b69acc140d282b71a49"
  }
 },
 "nbformat": 4,
 "nbformat_minor": 2
}