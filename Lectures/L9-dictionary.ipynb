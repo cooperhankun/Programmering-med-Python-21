{
 "cells": [
  {
   "cell_type": "markdown",
   "source": [
    "\n",
    "<a href=\"https://colab.research.google.com/github/kokchun/Programmering-med-Python-21/blob/main/Lectures/L9-dictionary.ipynb\" target=\"_parent\"><img align=\"left\" src=\"https://colab.research.google.com/assets/colab-badge.svg\" alt=\"Open In Colab\"/></a> &nbsp; for interacting with the code"
   ],
   "metadata": {}
  },
  {
   "cell_type": "markdown",
   "source": [
    "---\r\n",
    "# Lecture notes - dictionary\r\n",
    "\r\n",
    "---\r\n",
    "This is the lecture note for **dictionary**, but it's built upon contents from previous lectures such as: \r\n",
    "- input-output\r\n",
    "- variables\r\n",
    "- if-statement\r\n",
    "- for loop\r\n",
    "- while \r\n",
    "- lists\r\n",
    "- random\r\n",
    "- strings\r\n",
    "- functions\r\n",
    "- error handling\r\n",
    "- file handling\r\n",
    "\r\n",
    "<p class = \"alert alert-info\" role=\"alert\"><b>Note</b> that this lecture note gives a brief introduction to dictionary. I encourage you to read further about dictionary.\r\n",
    "\r\n",
    "Read more [w3schools - dictionary](https://www.w3schools.com/python/python_dictionaries.asp). \r\n",
    "\r\n",
    "Files used is found here: [Files](https://github.com/kokchun/Programmering-med-Python-21/tree/main/Files)\r\n",
    "\r\n",
    "---"
   ],
   "metadata": {}
  },
  {
   "cell_type": "markdown",
   "source": [
    "## dictionary\n",
    "\n",
    "- datastructure for storing data in key:value pairs"
   ],
   "metadata": {}
  },
  {
   "cell_type": "code",
   "execution_count": 10,
   "source": [
    "# create dictionary with dict()\n",
    "person = dict(\n",
    "    name = \"Kokchun\",\n",
    "    age = 30.4, \n",
    "    work = \"teacher\",\n",
    "    interest = [\"math\", \"python\", \"yoga\"],\n",
    "    phone = 112 # don't call\n",
    ")\n",
    "\n",
    "print(f\"person dictionary: {person}\")\n",
    "print(f\"Persons name is {person['name']}\") # note different ''  \"\"\n",
    "print(f\"Persons age is {person['age']} years old\") \n",
    "\n",
    "print(f\"{person['name']} loves {person['interest']}\") \n",
    "\n",
    "for interest in person[\"interest\"]:\n",
    "    print(f\"{person['name']} loves {interest}\")"
   ],
   "outputs": [
    {
     "output_type": "stream",
     "name": "stdout",
     "text": [
      "person dictionary: {'name': 'Kokchun', 'age': 30.4, 'work': 'teacher', 'interest': ['math', 'python', 'yoga'], 'phone': 112}\n",
      "Persons name is Kokchun\n",
      "Persons age is 30.4 years old\n",
      "Kokchun loves ['math', 'python', 'yoga']\n",
      "Kokchun loves math\n",
      "Kokchun loves python\n",
      "Kokchun loves yoga\n"
     ]
    }
   ],
   "metadata": {}
  },
  {
   "cell_type": "code",
   "execution_count": 52,
   "source": [
    "# create dictionary with curly braces {}\n",
    "words = {\n",
    "    \"data structure\": \"means of organizing and storing data\", \n",
    "    \"regression\": \"find a function that best fits observered data\",\n",
    "    \"dictionary\": \"store data in key-value pair\",\n",
    "    \"method\": \"a function bound to an object\",\n",
    "    \"lambda\": \"an anonymous function\"\n",
    "} # note quotes in key, quotes in value is for creating strings\n",
    "\n",
    "print(\"Vi ska lära oss dessa ord: \", end=\"\")\n",
    "for key in words:\n",
    "     print(key, end=\", \")\n",
    "\n",
    "print(f\"\\n\\nGlosa{'':<15} Betydelse\") # '':<15 right align with width 15\n",
    "# loops through key and values\n",
    "for key, value in words.items():\n",
    "    print(f\"{key:<20} {value}\")"
   ],
   "outputs": [
    {
     "output_type": "stream",
     "name": "stdout",
     "text": [
      "Vi ska lära oss dessa ord: data structure, regression, dictionary, method, lambda, pi, \n",
      "\n",
      "Glosa                Betydelse\n",
      "data structure       means of organizing and storing data\n",
      "regression           find a function that best fits observered data\n",
      "dictionary           store data in key-value pair\n",
      "method               a function bound to an object\n",
      "lambda               an anonymous function\n",
      "pi                   3.1415\n"
     ]
    }
   ],
   "metadata": {}
  },
  {
   "cell_type": "code",
   "execution_count": 60,
   "source": [
    "# F<10, E: 10, D: 20, C: 30, B: 40, A: 50 \n",
    "grade_limit = {}\n",
    "\n",
    "for i,char in enumerate(\"ABCDEF\"[::-1]):\n",
    "    grade_limit[char] = i*10\n",
    "\n",
    "# change value in a dictionary\n",
    "grade_limit[\"F\"] = \"<10\"\n",
    "print(grade_limit)"
   ],
   "outputs": [
    {
     "output_type": "stream",
     "name": "stdout",
     "text": [
      "{'F': '<10', 'E': 10, 'D': 20, 'C': 30, 'B': 40, 'A': 50}\n"
     ]
    }
   ],
   "metadata": {}
  },
  {
   "cell_type": "markdown",
   "source": [
    "## Dictionary comprehension"
   ],
   "metadata": {}
  },
  {
   "cell_type": "code",
   "execution_count": 98,
   "source": [
    "import random as rnd \n",
    "grade_limit = {grade: i*10 for i, grade in enumerate(\"FEDCBA\")}\n",
    "print(f\"Grade limits {grade_limit}\")\n",
    "\n",
    "def generate_scores(number_scores):\n",
    "    rnd.seed(42)\n",
    "    scores = [rnd.randint(0,60) for _ in range(number_scores)]\n",
    "    return scores\n",
    "\n",
    "scores = generate_scores(30)\n",
    "print(f\"Scores {scores}\")\n",
    "\n",
    "# count number in each grade category\n",
    "grade_count = {key: 0 for key in grade_limit}\n",
    "\n",
    "for score in scores:\n",
    "    for grade, limit in grade_limit.items():\n",
    "        if limit <= score < limit+10:\n",
    "            grade_count[grade] += 1\n",
    "\n",
    "print(f\"Grade count {grade_count}\")"
   ],
   "outputs": [
    {
     "output_type": "stream",
     "name": "stdout",
     "text": [
      "Grade limits {'F': 0, 'E': 10, 'D': 20, 'C': 30, 'B': 40, 'A': 50}\n",
      "Scores [40, 7, 1, 47, 17, 15, 14, 8, 47, 6, 43, 47, 57, 34, 5, 37, 27, 2, 1, 5, 13, 14, 32, 38, 1, 35, 12, 45, 41, 44]\n",
      "Grade count {'F': 9, 'E': 6, 'D': 1, 'C': 5, 'B': 8, 'A': 1}\n"
     ]
    }
   ],
   "metadata": {}
  },
  {
   "cell_type": "markdown",
   "source": [
    "---\r\n",
    "\r\n",
    "Kokchun Giang\r\n",
    "\r\n",
    "[LinkedIn][linkedIn_kokchun]\r\n",
    "\r\n",
    "[GitHub portfolio][github_portfolio]\r\n",
    "\r\n",
    "[linkedIn_kokchun]: https://www.linkedin.com/in/kokchungiang/\r\n",
    "[github_portfolio]: https://github.com/kokchun/Portfolio-Kokchun-Giang\r\n",
    "\r\n",
    "---"
   ],
   "metadata": {}
  }
 ],
 "metadata": {
  "orig_nbformat": 4,
  "language_info": {
   "name": "python",
   "version": "3.8.3",
   "mimetype": "text/x-python",
   "codemirror_mode": {
    "name": "ipython",
    "version": 3
   },
   "pygments_lexer": "ipython3",
   "nbconvert_exporter": "python",
   "file_extension": ".py"
  },
  "kernelspec": {
   "name": "python3",
   "display_name": "Python 3.8.3 64-bit ('Python_programming-Y6DWTcE3': pipenv)"
  },
  "interpreter": {
   "hash": "ba172e9133ac13726a3d8ff1460db7a5577e3778ee93c1aadc7eb3f4d8ce4f1c"
  }
 },
 "nbformat": 4,
 "nbformat_minor": 2
}